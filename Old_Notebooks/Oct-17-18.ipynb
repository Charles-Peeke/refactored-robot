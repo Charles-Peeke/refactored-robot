{
 "cells": [
  {
   "cell_type": "code",
   "execution_count": 2,
   "metadata": {},
   "outputs": [],
   "source": [
    "from __future__ import division\n",
    "import numpy as np\n",
    "import scipy.signal as sg\n",
    "from scipy.fftpack import rfft, fftfreq\n",
    "from scipy.io import wavfile\n",
    "import matplotlib.pyplot as plt\n",
    "import matplotlib.patches as patches\n",
    "%matplotlib inline\n",
    "import matplotlib.colors as colors\n",
    "from pydub import AudioSegment\n",
    "\n",
    "import utilities as util"
   ]
  },
  {
   "cell_type": "code",
   "execution_count": 3,
   "metadata": {},
   "outputs": [
    {
     "data": {
      "text/plain": [
       "<_io.BufferedRandom name='../samples/Guitar_C_Major_Scale.wav'>"
      ]
     },
     "execution_count": 3,
     "metadata": {},
     "output_type": "execute_result"
    }
   ],
   "source": [
    "sound = AudioSegment.from_wav(\"../samples/Guitar_C_Major_RAW.wav\")\n",
    "sound = sound.set_channels(1)\n",
    "sound.export(\"../samples/Guitar_C_Major_Scale.wav\", format=\"wav\")"
   ]
  },
  {
   "cell_type": "code",
   "execution_count": 4,
   "metadata": {},
   "outputs": [
    {
     "data": {
      "text/plain": [
       "<_io.BufferedRandom name='../samples/Guitar_C_Major_Note.wav'>"
      ]
     },
     "execution_count": 4,
     "metadata": {},
     "output_type": "execute_result"
    }
   ],
   "source": [
    "sound = AudioSegment.from_wav(\"../samples/Guitar_C_Note_RAW.wav\")\n",
    "sound = sound.set_channels(1)\n",
    "sound.export(\"../samples/Guitar_C_Major_Note.wav\", format=\"wav\")"
   ]
  },
  {
   "cell_type": "code",
   "execution_count": 5,
   "metadata": {},
   "outputs": [
    {
     "data": {
      "text/plain": [
       "<_io.BufferedRandom name='../samples/Piano_C_Major_Scale.wav'>"
      ]
     },
     "execution_count": 5,
     "metadata": {},
     "output_type": "execute_result"
    }
   ],
   "source": [
    "sound = AudioSegment.from_wav(\"../samples/Piano_C_Major_RAW.wav\")\n",
    "sound = sound.set_channels(1)\n",
    "sound.export(\"../samples/Piano_C_Major_Scale.wav\", format=\"wav\")"
   ]
  },
  {
   "cell_type": "code",
   "execution_count": 6,
   "metadata": {},
   "outputs": [
    {
     "data": {
      "text/plain": [
       "<_io.BufferedRandom name='../samples/Piano_C_Major_Note.wav'>"
      ]
     },
     "execution_count": 6,
     "metadata": {},
     "output_type": "execute_result"
    }
   ],
   "source": [
    "sound = AudioSegment.from_wav(\"../samples/Piano_C_Note_RAW.wav\")\n",
    "sound = sound.set_channels(1)\n",
    "sound.export(\"../samples/Piano_C_Major_Note.wav\", format=\"wav\")"
   ]
  },
  {
   "cell_type": "code",
   "execution_count": 7,
   "metadata": {},
   "outputs": [
    {
     "data": {
      "text/plain": [
       "<_io.BufferedRandom name='../samples/Trombone_C_Major_Scale.wav'>"
      ]
     },
     "execution_count": 7,
     "metadata": {},
     "output_type": "execute_result"
    }
   ],
   "source": [
    "sound = AudioSegment.from_wav(\"../samples/Trombone_C_Major_RAW.wav\")\n",
    "sound = sound.set_channels(1)\n",
    "sound.export(\"../samples/Trombone_C_Major_Scale.wav\", format=\"wav\")"
   ]
  },
  {
   "cell_type": "code",
   "execution_count": 8,
   "metadata": {},
   "outputs": [
    {
     "data": {
      "text/plain": [
       "<_io.BufferedRandom name='../samples/Trombone_C_Major_Note.wav'>"
      ]
     },
     "execution_count": 8,
     "metadata": {},
     "output_type": "execute_result"
    }
   ],
   "source": [
    "sound = AudioSegment.from_wav(\"../samples/Trombone_C_Note_RAW.wav\")\n",
    "sound = sound.set_channels(1)\n",
    "sound.export(\"../samples/Trombone_C_Major_Note.wav\", format=\"wav\")"
   ]
  },
  {
   "cell_type": "code",
   "execution_count": 9,
   "metadata": {},
   "outputs": [],
   "source": [
    "fs_bells, wav_bells = wavfile.read('../samples/HandBells.wav')\n",
    "fs_guitar, wav_guitar = wavfile.read('../samples/Guitar.wav')\n",
    "fs_piano, wav_piano = wavfile.read('../samples/Piano.wav')\n",
    "fs_chords, wav_chords = wavfile.read('../samples/Chords.wav')\n",
    "\n",
    "fs_piano_note,  wav_piano_note  = wavfile.read('../samples/Piano_C_Major_Note.wav')\n",
    "fs_piano_scale, wav_piano_scale = wavfile.read('../samples/Piano_C_Major_Scale.wav')\n",
    "fs_guitar_note,  wav_guitar_note  = wavfile.read('../samples/Guitar_C_Major_Note.wav')\n",
    "fs_guitar_scale, wav_guitar_scale = wavfile.read('../samples/Guitar_C_Major_Scale.wav')\n",
    "fs_trombone_note,  wav_trombone_note  = wavfile.read('../samples/Trombone_C_Major_Note.wav')\n",
    "fs_trombone_scale, wav_trombone_scale = wavfile.read('../samples/Trombone_C_Major_Scale.wav')"
   ]
  },
  {
   "cell_type": "code",
   "execution_count": 10,
   "metadata": {},
   "outputs": [],
   "source": [
    "wav_bells  = wav_bells.astype(np.double)\n",
    "wav_guitar = wav_guitar.astype(np.double)\n",
    "wav_piano  = wav_piano.astype(np.double)\n",
    "wav_chords = wav_chords.astype(np.double)\n",
    "\n",
    "wav_piano_note  = wav_piano_note.astype(np.double)\n",
    "wav_piano_scale = wav_piano_scale.astype(np.double)\n",
    "wav_guitar_note  = wav_guitar_note.astype(np.double)\n",
    "wav_guitar_scale = wav_guitar_scale.astype(np.double)\n",
    "wav_trombone_note  = wav_trombone_note.astype(np.double)\n",
    "wav_trombone_scale = wav_trombone_scale.astype(np.double)"
   ]
  },
  {
   "cell_type": "code",
   "execution_count": 11,
   "metadata": {},
   "outputs": [],
   "source": [
    "freq_bells, time_bells, spectrogram_bells = sg.spectrogram(wav_bells, fs_bells, nperseg=16384)\n",
    "freq_guitar, time_guitar, spectrogram_guitar = sg.spectrogram(wav_guitar, fs_guitar, nperseg=16384)\n",
    "freq_piano, time_piano, spectrogram_piano = sg.spectrogram(wav_piano, fs_piano, nperseg=16384)\n",
    "freq_chords, time_chords, spectrogram_chords = sg.spectrogram(wav_chords, fs_chords, nperseg=16384)\n",
    "\n",
    "freq_piano_note,  time_piano_note,  spectrogram_piano_note  = sg.spectrogram(wav_piano_note,  fs_piano_note,  nperseg=16384)\n",
    "freq_piano_scale, time_piano_scale, spectrogram_piano_scale = sg.spectrogram(wav_piano_scale, fs_piano_scale, nperseg=16384)\n",
    "freq_guitar_note,  time_guitar_note,  spectrogram_guitar_note  = sg.spectrogram(wav_guitar_note,  fs_guitar_note,  nperseg=16384)\n",
    "freq_guitar_scale, time_guitar_scale, spectrogram_guitar_scale = sg.spectrogram(wav_guitar_scale, fs_guitar_scale, nperseg=16384)\n",
    "freq_trombone_note,  time_trombone_note,  spectrogram_trombone_note  = sg.spectrogram(wav_trombone_note,  fs_trombone_note,  nperseg=16384)\n",
    "freq_trombone_scale, time_trombone_scale, spectrogram_trombone_scale = sg.spectrogram(wav_trombone_scale, fs_trombone_scale, nperseg=16384)"
   ]
  },
  {
   "cell_type": "code",
   "execution_count": 12,
   "metadata": {},
   "outputs": [],
   "source": [
    "argsort_bells  = np.argsort(spectrogram_bells,  axis=0)\n",
    "argsort_guitar = np.argsort(spectrogram_guitar, axis=0)\n",
    "argsort_piano  = np.argsort(spectrogram_piano,  axis=0)\n",
    "argsort_chords = np.argsort(spectrogram_chords, axis=0)\n",
    "\n",
    "argsort_piano_note  = np.argsort(spectrogram_piano_note,  axis=0)\n",
    "argsort_piano_scale = np.argsort(spectrogram_piano_scale, axis=0)\n",
    "argsort_guitar_note  = np.argsort(spectrogram_guitar_note,  axis=0)\n",
    "argsort_guitar_scale = np.argsort(spectrogram_guitar_scale, axis=0)\n",
    "argsort_trombone_note  = np.argsort(spectrogram_trombone_note,  axis=0)\n",
    "argsort_trombone_scale = np.argsort(spectrogram_trombone_scale, axis=0)"
   ]
  },
  {
   "cell_type": "code",
   "execution_count": 13,
   "metadata": {},
   "outputs": [],
   "source": [
    "corr_bells,  nf_bells  = util.make_corrections(spectrogram_bells,  freq_bells)\n",
    "corr_guitar, nf_guitar = util.make_corrections(spectrogram_guitar, freq_guitar)\n",
    "corr_piano,  nf_piano  = util.make_corrections(spectrogram_piano,  freq_piano)\n",
    "corr_chords, nf_chords = util.make_corrections(spectrogram_chords, freq_chords)\n",
    "\n",
    "corr_piano_note,  nf_piano_note  = util.make_corrections(spectrogram_piano_note,  freq_piano_note)\n",
    "corr_piano_scale, nf_piano_scale = util.make_corrections(spectrogram_piano_scale, freq_piano_scale)\n",
    "corr_guitar_note,  nf_guitar_note  = util.make_corrections(spectrogram_guitar_note,  freq_guitar_note)\n",
    "corr_guitar_scale, nf_guitar_scale = util.make_corrections(spectrogram_guitar_scale, freq_guitar_scale)\n",
    "corr_trombone_note,  nf_trombone_note  = util.make_corrections(spectrogram_trombone_note, freq_trombone_note)\n",
    "corr_trombone_scale, nf_trombone_scale = util.make_corrections(spectrogram_trombone_scale, freq_trombone_scale)"
   ]
  },
  {
   "cell_type": "code",
   "execution_count": 14,
   "metadata": {},
   "outputs": [],
   "source": [
    "argsort_bells2  = np.argsort(corr_bells,  axis=0)\n",
    "argsort_guitar2 = np.argsort(corr_guitar, axis=0)\n",
    "argsort_piano2  = np.argsort(corr_piano,  axis=0)\n",
    "argsort_chords2 = np.argsort(corr_chords, axis=0)\n",
    "\n",
    "argsort_piano_note2  = np.argsort(corr_piano_note,  axis=0)\n",
    "argsort_piano_scale2 = np.argsort(corr_piano_scale, axis=0)\n",
    "argsort_guitar_note2  = np.argsort(corr_guitar_note,  axis=0)\n",
    "argsort_guitar_scale2 = np.argsort(corr_guitar_scale, axis=0)\n",
    "argsort_trombone_note2  = np.argsort(corr_trombone_note,  axis=0)\n",
    "argsort_trombone_scale2 = np.argsort(corr_trombone_scale, axis=0)"
   ]
  },
  {
   "cell_type": "code",
   "execution_count": 15,
   "metadata": {},
   "outputs": [],
   "source": [
    "def display_ratios(corr, argsort, lbl='N/A'):\n",
    "    plt.plot(corr.max(axis=0)[1:] / [corr[x,i] for i,x in enumerate(argsort[-2][1:], 1)], label=lbl)\n",
    "    plt.xlabel('Time')\n",
    "    plt.ylabel('Ratio (Inverted)')\n",
    "    plt.legend()\n",
    "    plt.gca().set_aspect('auto')"
   ]
  },
  {
   "cell_type": "code",
   "execution_count": null,
   "metadata": {},
   "outputs": [],
   "source": []
  }
 ],
 "metadata": {
  "kernelspec": {
   "display_name": "example1",
   "language": "python",
   "name": "example1"
  },
  "language_info": {
   "codemirror_mode": {
    "name": "ipython",
    "version": 3
   },
   "file_extension": ".py",
   "mimetype": "text/x-python",
   "name": "python",
   "nbconvert_exporter": "python",
   "pygments_lexer": "ipython3",
   "version": "3.6.6"
  }
 },
 "nbformat": 4,
 "nbformat_minor": 2
}
