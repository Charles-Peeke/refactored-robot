{
 "cells": [
  {
   "cell_type": "code",
   "execution_count": 2,
   "metadata": {},
   "outputs": [],
   "source": [
    "import tensorflow as tf"
   ]
  },
  {
   "cell_type": "code",
   "execution_count": 3,
   "metadata": {},
   "outputs": [],
   "source": [
    "from __future__ import division\n",
    "import numpy as np\n",
    "import scipy.signal as sg\n",
    "from scipy.fftpack import rfft, fftfreq\n",
    "from scipy.io import wavfile\n",
    "import matplotlib.pyplot as plt\n",
    "import matplotlib.patches as patches\n",
    "%matplotlib inline"
   ]
  },
  {
   "cell_type": "code",
   "execution_count": 4,
   "metadata": {},
   "outputs": [],
   "source": [
    "from pydub import AudioSegment"
   ]
  },
  {
   "cell_type": "code",
   "execution_count": 5,
   "metadata": {},
   "outputs": [],
   "source": [
    "# Build a dataflow graph.\n",
    "c = tf.constant([[1.0, 2.0], [3.0, 4.0]])\n",
    "d = tf.constant([[1.0, 1.0], [0.0, 1.0]])\n",
    "e = tf.add(c, d)\n",
    "\n",
    "# Construct a `Session` to execute the graph.\n",
    "sess = tf.Session()\n",
    "\n",
    "# Execute the graph and store the value that `e` represents in `result`.\n",
    "result = sess.run(e)"
   ]
  },
  {
   "cell_type": "code",
   "execution_count": 6,
   "metadata": {},
   "outputs": [
    {
     "data": {
      "text/plain": [
       "array([[2., 3.],\n",
       "       [3., 5.]], dtype=float32)"
      ]
     },
     "execution_count": 6,
     "metadata": {},
     "output_type": "execute_result"
    }
   ],
   "source": [
    "result"
   ]
  },
  {
   "cell_type": "code",
   "execution_count": 7,
   "metadata": {},
   "outputs": [],
   "source": [
    "fs_piano, wav_piano = wavfile.read('../samples/Piano.wav')"
   ]
  },
  {
   "cell_type": "code",
   "execution_count": 8,
   "metadata": {},
   "outputs": [],
   "source": [
    "wav_piano = wav_piano.astype(np.double)"
   ]
  },
  {
   "cell_type": "code",
   "execution_count": 9,
   "metadata": {},
   "outputs": [],
   "source": [
    "freq_piano, time_piano, spectrogram_piano = sg.spectrogram(wav_piano, fs_piano)"
   ]
  },
  {
   "cell_type": "code",
   "execution_count": 10,
   "metadata": {},
   "outputs": [],
   "source": [
    "# A batch of float32 time-domain signals in the range [-1, 1] with shape\n",
    "# [batch_size, signal_length]. Both batch_size and signal_length may be unknown.\n",
    "signals = tf.placeholder(tf.float32, [None, None])\n",
    "\n",
    "# Compute a [batch_size, ?, 128] tensor of fixed length, overlapping windows\n",
    "# where each window overlaps the previous by 75% (frame_length - frame_step\n",
    "# samples of overlap).\n",
    "frames = tf.contrib.signal.frame(signals, frame_length=128, frame_step=32)"
   ]
  },
  {
   "cell_type": "code",
   "execution_count": 11,
   "metadata": {},
   "outputs": [],
   "source": [
    "# `magnitude_spectrograms` is a [batch_size, ?, 129] tensor of spectrograms. We\n",
    "# would like to produce overlapping fixed-size spectrogram patches; for example,\n",
    "# for use in a situation where a fixed size input is needed.\n",
    "magnitude_spectrograms = tf.abs(tf.contrib.signal.stft(\n",
    "    signals, frame_length=256, frame_step=64, fft_length=256))\n",
    "\n",
    "# `spectrogram_patches` is a [batch_size, ?, 64, 129] tensor containing a\n",
    "# variable number of [64, 129] spectrogram patches per batch item.\n",
    "spectrogram_patches = tf.contrib.signal.frame(\n",
    "    magnitude_spectrograms, frame_length=64, frame_step=16, axis=1)"
   ]
  },
  {
   "cell_type": "code",
   "execution_count": 12,
   "metadata": {},
   "outputs": [],
   "source": [
    "# Reconstructs `signals` from `frames` produced in the above example. However,\n",
    "# the magnitude of `reconstructed_signals` will be greater than `signals`.\n",
    "reconstructed_signals = tf.contrib.signal.overlap_and_add(frames, frame_step=32)"
   ]
  },
  {
   "cell_type": "code",
   "execution_count": 13,
   "metadata": {},
   "outputs": [],
   "source": [
    "frame_length = 128\n",
    "frame_step = 32\n",
    "windowed_frames = frames * tf.contrib.signal.hann_window(frame_length)\n",
    "reconstructed_signals = tf.contrib.signal.overlap_and_add(\n",
    "    windowed_frames, frame_step)"
   ]
  },
  {
   "cell_type": "code",
   "execution_count": 14,
   "metadata": {},
   "outputs": [],
   "source": [
    "# A batch of float32 time-domain signals in the range [-1, 1] with shape\n",
    "# [batch_size, signal_length]. Both batch_size and signal_length may be unknown.\n",
    "signals = tf.placeholder(tf.float32, [None, None])\n",
    "\n",
    "# `stfts` is a complex64 Tensor representing the Short-time Fourier Transform of\n",
    "# each signal in `signals`. Its shape is [batch_size, ?, fft_unique_bins]\n",
    "# where fft_unique_bins = fft_length // 2 + 1 = 513.\n",
    "stfts = tf.contrib.signal.stft(signals, frame_length=1024, frame_step=512,\n",
    "                               fft_length=1024)\n",
    "\n",
    "# A power spectrogram is the squared magnitude of the complex-valued STFT.\n",
    "# A float32 Tensor of shape [batch_size, ?, 513].\n",
    "power_spectrograms = tf.real(stfts * tf.conj(stfts))\n",
    "\n",
    "# An energy spectrogram is the magnitude of the complex-valued STFT.\n",
    "# A float32 Tensor of shape [batch_size, ?, 513].\n",
    "magnitude_spectrograms = tf.abs(stfts)"
   ]
  },
  {
   "cell_type": "code",
   "execution_count": 15,
   "metadata": {},
   "outputs": [],
   "source": [
    "log_offset = 1e-6\n",
    "log_magnitude_spectrograms = tf.log(magnitude_spectrograms + log_offset)\n"
   ]
  },
  {
   "cell_type": "code",
   "execution_count": 16,
   "metadata": {},
   "outputs": [],
   "source": [
    "# Warp the linear-scale, magnitude spectrograms into the mel-scale.\n",
    "num_spectrogram_bins = magnitude_spectrograms.shape[-1].value\n",
    "lower_edge_hertz, upper_edge_hertz, num_mel_bins = 80.0, 7600.0, 64\n",
    "linear_to_mel_weight_matrix = tf.contrib.signal.linear_to_mel_weight_matrix(\n",
    "  num_mel_bins, num_spectrogram_bins, 441000, lower_edge_hertz,\n",
    "  upper_edge_hertz)\n",
    "mel_spectrograms = tf.tensordot(\n",
    "  magnitude_spectrograms, linear_to_mel_weight_matrix, 1)\n",
    "# Note: Shape inference for <a href=\"../../api_docs/python/tf/tensordot\"><code>tf.tensordot</code></a> does not currently handle this case.\n",
    "mel_spectrograms.set_shape(magnitude_spectrograms.shape[:-1].concatenate(\n",
    "  linear_to_mel_weight_matrix.shape[-1:]))"
   ]
  },
  {
   "cell_type": "code",
   "execution_count": 17,
   "metadata": {},
   "outputs": [],
   "source": [
    "log_offset = 1e-6\n",
    "log_mel_spectrograms = tf.log(mel_spectrograms + log_offset)\n",
    "\n",
    "\n",
    "num_mfccs = 13\n",
    "# Keep the first `num_mfccs` MFCCs.\n",
    "mfccs = tf.contrib.signal.mfccs_from_log_mel_spectrograms(\n",
    "    log_mel_spectrograms)[..., :num_mfccs]\n"
   ]
  },
  {
   "cell_type": "code",
   "execution_count": null,
   "metadata": {},
   "outputs": [],
   "source": []
  },
  {
   "cell_type": "code",
   "execution_count": null,
   "metadata": {},
   "outputs": [],
   "source": []
  },
  {
   "cell_type": "code",
   "execution_count": null,
   "metadata": {},
   "outputs": [],
   "source": []
  },
  {
   "cell_type": "code",
   "execution_count": null,
   "metadata": {},
   "outputs": [],
   "source": []
  },
  {
   "cell_type": "code",
   "execution_count": null,
   "metadata": {},
   "outputs": [],
   "source": []
  },
  {
   "cell_type": "code",
   "execution_count": null,
   "metadata": {},
   "outputs": [],
   "source": []
  }
 ],
 "metadata": {
  "kernelspec": {
   "display_name": "example1",
   "language": "python",
   "name": "example1"
  },
  "language_info": {
   "codemirror_mode": {
    "name": "ipython",
    "version": 3
   },
   "file_extension": ".py",
   "mimetype": "text/x-python",
   "name": "python",
   "nbconvert_exporter": "python",
   "pygments_lexer": "ipython3",
   "version": "3.6.6"
  }
 },
 "nbformat": 4,
 "nbformat_minor": 2
}
