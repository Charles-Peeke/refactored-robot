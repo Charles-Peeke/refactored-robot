{
 "cells": [
  {
   "cell_type": "code",
   "execution_count": 3,
   "metadata": {},
   "outputs": [],
   "source": [
    "import tensorflow as tf\n",
    "from tensorflow.contrib.framework.python.ops import audio_ops\n",
    "\n",
    "# Wav file name\n",
    "wav_file = tf.placeholder(tf.string)\n",
    "\n",
    "# Read the wav file\n",
    "audio_binary = tf.read_file(wav_file)\n",
    "\n",
    "# Decode the wav mono into a 2D tensor with time in dimension 0\n",
    "# and channel along dimension 1\n",
    "waveform = audio_ops.decode_wav(audio_binary, desired_channels=1)\n",
    "\n",
    "# Compute the spectrogram\n",
    "spectrogram = audio_ops.audio_spectrogram(\n",
    "        waveform.audio,\n",
    "        window_size=1024,\n",
    "        stride=64)\n",
    "\n",
    "# Custom brightness\n",
    "brightness = tf.placeholder(tf.float32, shape=[])\n",
    "mul = tf.multiply(spectrogram, brightness)\n",
    "\n",
    "# Normalize pixels\n",
    "min_const = tf.constant(255.)\n",
    "minimum =  tf.minimum(mul, min_const)\n",
    "\n",
    "# Expand dims so we get the proper shape\n",
    "expand_dims = tf.expand_dims(minimum, -1)\n",
    "\n",
    "# Resize the spectrogram to input size of the model\n",
    "resize = tf.image.resize_bilinear(expand_dims, [128, 128])\n",
    "\n",
    "# Remove the trailing dimension\n",
    "squeeze = tf.squeeze(resize, 0)\n",
    "\n",
    "# Tensorflow spectrogram has time along y axis and frequencies along x axis\n",
    "# so we fix that\n",
    "flip = tf.image.flip_left_right(squeeze)\n",
    "transpose = tf.image.transpose_image(flip)\n",
    "\n",
    "# Convert image to 3 channels, it's still a grayscale image however\n",
    "grayscale = tf.image.grayscale_to_rgb(transpose)\n",
    "\n",
    "# Cast to uint8 and encode as png\n",
    "cast = tf.cast(grayscale, tf.uint8)\n",
    "png = tf.image.encode_png(cast)\n",
    "\n",
    "with tf.Session() as sess:\n",
    "    # Run the computation graph and save the png encoded image to a file\n",
    "    image = sess.run(png, feed_dict={\n",
    "      wav_file: '../samples/piano-melody.wav', brightness: 100})\n",
    "\n",
    "    with open('../samples/piano.png', 'wb') as f:\n",
    "        f.write(image)\n"
   ]
  },
  {
   "cell_type": "code",
   "execution_count": 4,
   "metadata": {},
   "outputs": [
    {
     "data": {
      "text/plain": [
       "<matplotlib.image.AxesImage at 0x11e05ee10>"
      ]
     },
     "execution_count": 4,
     "metadata": {},
     "output_type": "execute_result"
    },
    {
     "data": {
      "image/png": "[encoded data removed]",
      "text/plain": [
       "<Figure size 432x288 with 1 Axes>"
      ]
     },
     "metadata": {
      "needs_background": "light"
     },
     "output_type": "display_data"
    }
   ],
   "source": [
    "import skimage.io as io\n",
    "import matplotlib.pyplot as plt\n",
    "import matplotlib.patches as patches\n",
    "%matplotlib inline\n",
    "im = io.imread('../samples/piano.png')\n",
    "plt.imshow(im)"
   ]
  },
  {
   "cell_type": "code",
   "execution_count": null,
   "metadata": {},
   "outputs": [],
   "source": []
  },
  {
   "cell_type": "code",
   "execution_count": null,
   "metadata": {},
   "outputs": [],
   "source": []
  },
  {
   "cell_type": "code",
   "execution_count": null,
   "metadata": {},
   "outputs": [],
   "source": []
  },
  {
   "cell_type": "code",
   "execution_count": null,
   "metadata": {},
   "outputs": [],
   "source": []
  },
  {
   "cell_type": "code",
   "execution_count": null,
   "metadata": {},
   "outputs": [],
   "source": []
  }
 ],
 "metadata": {
  "kernelspec": {
   "display_name": "example1",
   "language": "python",
   "name": "example1"
  },
  "language_info": {
   "codemirror_mode": {
    "name": "ipython",
    "version": 3
   },
   "file_extension": ".py",
   "mimetype": "text/x-python",
   "name": "python",
   "nbconvert_exporter": "python",
   "pygments_lexer": "ipython3",
   "version": "3.6.6"
  }
 },
 "nbformat": 4,
 "nbformat_minor": 2
}
