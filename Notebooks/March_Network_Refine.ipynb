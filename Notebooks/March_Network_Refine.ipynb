{
 "cells": [
  {
   "cell_type": "code",
   "execution_count": 1,
   "metadata": {},
   "outputs": [],
   "source": [
    "%load_ext autoreload\n",
    "%autoreload 2\n",
    "%reload_ext autoreload\n",
    "\n",
    "import numpy as np\n",
    "from scipy.io import wavfile\n",
    "import tensorflow as tf\n",
    "import utilities as util\n",
    "\n",
    "import matplotlib.pylab as plt \n",
    "\n",
    "import warnings\n",
    "warnings.filterwarnings(\"ignore\", category=wavfile.WavFileWarning)"
   ]
  },
  {
   "cell_type": "code",
   "execution_count": 4,
   "metadata": {},
   "outputs": [
    {
     "name": "stdout",
     "output_type": "stream",
     "text": [
      "CPU times: user 2.38 ms, sys: 0 ns, total: 2.38 ms\n",
      "Wall time: 2.05 ms\n"
     ]
    }
   ],
   "source": [
    "%%time\n",
    "nps_uniq, dfreqs, notes = util.precompute_spect()\n",
    "smallest_nps = 44100/24 * 4/3 \n",
    "smallest_nps = 2**int(np.log2(smallest_nps))\n",
    "note_freq = util.frequencies('A0', 'D8')\n",
    "sample_files, target_vals = util.gather_samples(util.note_names('C1', 'G1'), 2) # Guitar, Trombone, Piano\n",
    "init = tf.global_variables_initializer()\n",
    "\n",
    "time_steps = 88\n",
    "n_inputs=time_steps*len(notes)"
   ]
  },
  {
   "cell_type": "code",
   "execution_count": 3,
   "metadata": {},
   "outputs": [
    {
     "name": "stdout",
     "output_type": "stream",
     "text": [
      "CPU times: user 15min 44s, sys: 1.83 s, total: 15min 46s\n",
      "Wall time: 15min 49s\n"
     ]
    }
   ],
   "source": [
    "%%time\n",
    "\n",
    "all_specs = []\n",
    "for sf in sample_files:\n",
    "    s = util.preprocess(sf, nps_uniq, dfreqs, notes, smallest_nps, note_freq)\n",
    "    all_specs.append(s)"
   ]
  },
  {
   "cell_type": "code",
   "execution_count": 5,
   "metadata": {},
   "outputs": [],
   "source": [
    "X = tf.placeholder(tf.float16, shape=(None,n_inputs), name=\"X\")\n",
    "y = tf.placeholder(tf.int64, shape=(None), name=\"y\")"
   ]
  },
  {
   "cell_type": "code",
   "execution_count": 6,
   "metadata": {},
   "outputs": [
    {
     "name": "stdout",
     "output_type": "stream",
     "text": [
      "CPU times: user 29.3 ms, sys: 1.83 ms, total: 31.1 ms\n",
      "Wall time: 30.9 ms\n"
     ]
    }
   ],
   "source": [
    "%%time\n",
    "\n",
    "n_hidden1 = 2500\n",
    "n_hidden2 = 500\n",
    "n_outputs = 3\n",
    "\n",
    "with tf.name_scope(\"network\"):\n",
    "    hidden1 = tf.layers.dense(X, n_hidden1, name=\"hidden1\", activation=tf.nn.relu) # Play with activations\n",
    "    hidden2 = tf.layers.dense(hidden1, n_hidden2, name=\"hidden2\", activation=tf.nn.relu) # Play with activations\n",
    "    net_results = tf.layers.dense(hidden2, n_outputs, name=\"outputs\")"
   ]
  },
  {
   "cell_type": "code",
   "execution_count": 7,
   "metadata": {},
   "outputs": [
    {
     "name": "stdout",
     "output_type": "stream",
     "text": [
      "CPU times: user 3.54 ms, sys: 0 ns, total: 3.54 ms\n",
      "Wall time: 3.33 ms\n"
     ]
    }
   ],
   "source": [
    "%%time\n",
    "\n",
    "with tf.name_scope(\"loss_sparse\"):\n",
    "    xentropy = tf.nn.sparse_softmax_cross_entropy_with_logits(labels=y, logits=net_results)\n",
    "    loss = tf.reduce_mean(xentropy, name=\"loss_sparse\")"
   ]
  },
  {
   "cell_type": "code",
   "execution_count": 8,
   "metadata": {},
   "outputs": [
    {
     "name": "stdout",
     "output_type": "stream",
     "text": [
      "WARNING:tensorflow:From <timed exec>:3: softmax_cross_entropy_with_logits (from tensorflow.python.ops.nn_ops) is deprecated and will be removed in a future version.\n",
      "Instructions for updating:\n",
      "\n",
      "Future major versions of TensorFlow will allow gradients to flow\n",
      "into the labels input on backprop by default.\n",
      "\n",
      "See `tf.nn.softmax_cross_entropy_with_logits_v2`.\n",
      "\n",
      "CPU times: user 56.7 ms, sys: 2.99 ms, total: 59.7 ms\n",
      "Wall time: 59.3 ms\n"
     ]
    }
   ],
   "source": [
    "%%time\n",
    "\n",
    "with tf.name_scope(\"loss_soft\"):\n",
    "    xentropy = tf.nn.softmax_cross_entropy_with_logits(labels=y, logits=net_results)\n",
    "    loss = tf.reduce_mean(xentropy, name=\"loss_soft\")"
   ]
  },
  {
   "cell_type": "code",
   "execution_count": null,
   "metadata": {},
   "outputs": [],
   "source": [
    "%%time\n",
    "\n",
    "with tf.name_scope(\"loss_sparse\"):\n",
    "    xentropy = tf.nn.(labels=y, logits=net_results)\n",
    "    loss = tf.reduce_mean(xentropy, name=\"loss_sparse\")"
   ]
  },
  {
   "cell_type": "code",
   "execution_count": null,
   "metadata": {},
   "outputs": [],
   "source": []
  },
  {
   "cell_type": "code",
   "execution_count": null,
   "metadata": {},
   "outputs": [],
   "source": [
    "%%time\n",
    "learning_rate = 0.01\n",
    "\n",
    "with tf.name_scope(\"train\"):\n",
    "    optimizer = tf.train.GradientDescentOptimizer(learning_rate)\n",
    "    training_op = optimizer.minimize(loss)"
   ]
  },
  {
   "cell_type": "code",
   "execution_count": null,
   "metadata": {},
   "outputs": [],
   "source": [
    "%%time\n",
    "with tf.name_scope(\"eval\"):\n",
    "    correct = tf.nn.in_top_k(tf.cast(net_results, tf.float32), y, 1)\n",
    "    accuracy = tf.reduce_mean(tf.cast(correct, tf.float32))"
   ]
  },
  {
   "cell_type": "code",
   "execution_count": null,
   "metadata": {},
   "outputs": [],
   "source": [
    "%%time\n",
    "\n",
    "spectrograms = []\n",
    "with tf.Session() as sess:\n",
    "    sess.run(tf.global_variables_initializer())\n",
    "    spectrograms = sess.run(all_specs)"
   ]
  },
  {
   "cell_type": "code",
   "execution_count": null,
   "metadata": {},
   "outputs": [],
   "source": [
    "%%time\n",
    "new_specs22 = []\n",
    "for i in range(len(all_specs)):\n",
    "    new_spectrograms = []\n",
    "    end = len(np.trim_zeros(spectrograms[i].sum(1), 'b'))\n",
    "    new_spectrograms = np.concatenate(spectrograms[i][:,:end]).ravel()\n",
    "#     print(new_spectrograms.shape)\n",
    "    new_specs22.append(new_spectrograms)"
   ]
  },
  {
   "cell_type": "code",
   "execution_count": null,
   "metadata": {},
   "outputs": [],
   "source": [
    "%%time\n",
    "saver = tf.train.Saver()\n",
    "\n",
    "n_epochs = 10\n",
    "batch_size = 3\n",
    "with tf.Session() as sess:\n",
    "    sess.run(tf.global_variables_initializer())\n",
    "    for epoch in range(n_epochs):\n",
    "#         for iteration in range(len(new_specs22) // batch_size):\n",
    "        X_batch = new_specs22\n",
    "        Y_batch = target_vals\n",
    "        sess.run(training_op, feed_dict={X: np.stack(X_batch),\n",
    "                                         y: np.array(Y_batch)})\n",
    "#         acc_train = accuracy.eval(feed_dict={X: X_batch, y: [0,1,2]})\n",
    "        acc_val = accuracy.eval(feed_dict={X: X_batch, y: Y_batch})\n",
    "        print(epoch, \"Val accuracy:\", acc_val)\n",
    "\n",
    "    save_path = saver.save(sess, \"./FirstNetwork.ckpt\")"
   ]
  },
  {
   "cell_type": "code",
   "execution_count": null,
   "metadata": {},
   "outputs": [],
   "source": [
    "new_sample_files = []\n",
    "new_target_vals = []\n",
    "new_location = '../samples/'\n",
    "new_instruments = ['Trombone', 'Guitar', 'Piano']\n",
    "for i, new_name in enumerate(new_instruments):\n",
    "    for new_note in (util.note_names('C1', 'F1')):\n",
    "        for j in range(2, 3):\n",
    "            new_file_name = new_location + new_name+\"/\"+new_name +\"_\"+new_note[:-1]+\"(\"+str(j)+\").wav\"\n",
    "            new_sample_files.append(new_file_name)\n",
    "            new_target_vals.append(i)"
   ]
  },
  {
   "cell_type": "code",
   "execution_count": null,
   "metadata": {},
   "outputs": [],
   "source": []
  }
 ],
 "metadata": {
  "kernelspec": {
   "display_name": "Python 3",
   "language": "python",
   "name": "python3"
  },
  "language_info": {
   "codemirror_mode": {
    "name": "ipython",
    "version": 3
   },
   "file_extension": ".py",
   "mimetype": "text/x-python",
   "name": "python",
   "nbconvert_exporter": "python",
   "pygments_lexer": "ipython3",
   "version": "3.7.2"
  }
 },
 "nbformat": 4,
 "nbformat_minor": 2
}
