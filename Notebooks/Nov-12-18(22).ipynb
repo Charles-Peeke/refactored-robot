{
 "cells": [
  {
   "cell_type": "code",
   "execution_count": null,
   "metadata": {},
   "outputs": [],
   "source": [
    "%load_ext autoreload\n",
    "%autoreload 2\n",
    "\n",
    "from __future__ import division\n",
    "import numpy as np\n",
    "import scipy.signal as sg\n",
    "from scipy.fftpack import rfft, fftfreq\n",
    "from scipy.io import wavfile\n",
    "import matplotlib.pyplot as plt\n",
    "import matplotlib.patches as patches\n",
    "%matplotlib inline\n",
    "import matplotlib.colors as colors\n",
    "from pydub import AudioSegment\n",
    "import math as m\n",
    "import tensorflow as tf\n",
    "import utilities as util"
   ]
  },
  {
   "cell_type": "code",
   "execution_count": null,
   "metadata": {},
   "outputs": [],
   "source": [
    "bells_fs,        bells_wav,        bells_freq,        bells_time,        bells_spec,        bells_argsort,         = util.gather_data('../samples/HandBells.wav')\n",
    "chords_fs,       chords_wav,       chords_freq,       chords_time,       chords_spec,       chords_argsort,        = util.gather_data('../samples/Chords.wav')\n",
    "piano_mel_fs,    piano_mel_wav,    piano_mel_freq,    piano_mel_time,    piano_mel_spec,    piano_mel_argsort,     = util.gather_data('../samples/Piano.wav')\n",
    "guitar_tun_fs,   guitar_tun_wav,   guitar_tun_freq,   guitar_tun_time,   guitar_tun_spec,   guitar_tun_argsort,    = util.gather_data('../samples/Guitar.wav')\n",
    "piano_note_fs,   piano_note_wav,   piano_note_freq,   piano_note_time,   piano_note_spec,   piano_note_argsort,    = util.gather_data('../samples/Piano_C_Major_Note.wav')\n",
    "tbone_note_fs,   tbone_note_wav,   tbone_note_freq,   tbone_note_time,   tbone_note_spec,   tbone_note_argsort,    = util.gather_data('../samples/Trombone_C_Major_Note.wav')\n",
    "guitar_note_fs,  guitar_note_wav,  guitar_note_freq,  guitar_note_time,  guitar_note_spec,  guitar_note_argsort,   = util.gather_data('../samples/Guitar_C_Major_Note.wav')\n",
    "piano_scale_fs,  piano_scale_wav,  piano_scale_freq,  piano_scale_time,  piano_scale_spec,  piano_scale_argsort,   = util.gather_data('../samples/Piano_C_Major_Scale.wav')\n",
    "tbone_scale_fs,  tbone_scale_wav,  tbone_scale_freq,  tbone_scale_time,  tbone_scale_spec,  tbone_scale_argsort,   = util.gather_data('../samples/Trombone_C_Major_Scale.wav')\n",
    "guitar_scale_fs, guitar_scale_wav, guitar_scale_freq, guitar_scale_time, guitar_scale_spec, guitar_scale_argsort,  = util.gather_data('../samples/Guitar_C_Major_Scale.wav')"
   ]
  },
  {
   "cell_type": "code",
   "execution_count": null,
   "metadata": {},
   "outputs": [],
   "source": [
    "note_freq = util.frequencies('A0', 'D8')"
   ]
  },
  {
   "cell_type": "code",
   "execution_count": null,
   "metadata": {},
   "outputs": [],
   "source": [
    "def spect(wav, fs):\n",
    "    import numpy as np\n",
    "    smallest_nps = fs/24 * 4/3 \n",
    "    smallest_nps = 2**int(np.log2(smallest_nps))\n",
    "    note_freq = frequencies('A0', 'D8')\n",
    "    df = np.diff(note_freq)\n",
    "    \n",
    "    nps = np.maximum(\n",
    "        np.int64(\n",
    "            2**np.ceil(\n",
    "                np.log2(fs/df)\n",
    "            )\n",
    "        ), smallest_nps\n",
    "    )\n",
    "    \n",
    "    \n",
    "    \n",
    "    nps_uniq = list(np.unique(nps))\n",
    "    \n",
    "    \n",
    "    data = []\n",
    "    for nperseg in nps_uniq:\n",
    "        data.append(sg.spectrogram(wav, fs, nperseg=nperseg, noverlap=nperseg-smallest_nps))\n",
    "    a = 2**(1/12)\n",
    "    lo_factor = 0.5*(1+1/a)\n",
    "    hi_factor = 0.5*(1+a) \n",
    "    full_spec = np.zeros((len(note_freq)-1, len(data[0][1])))\n",
    "    for i,(nf,nperseg) in enumerate(zip(note_freq, nps)):\n",
    "        nps_ind = nps_uniq.index(nperseg)\n",
    "        freq, time, spec = data[nps_ind]\n",
    "        lo = nf*lo_factor\n",
    "        hi = nf*hi_factor\n",
    "        ind = (freq>=lo)&(freq<=hi)\n",
    "#         print(nf, ind.sum(), abs(freq[ind] - nf).min() / nf)\n",
    "        peak = normal_peak(spec[ind,:], freq[ind])\n",
    "        full_spec[i,:len(time)] = peak\n",
    "\n",
    "    return note_freq[:-1], data[0][1], full_spec"
   ]
  },
  {
   "cell_type": "code",
   "execution_count": null,
   "metadata": {},
   "outputs": [],
   "source": [
    "fs = guitar_note_fs\n",
    "smallest_nps = tf.truediv(fs, 18)"
   ]
  },
  {
   "cell_type": "code",
   "execution_count": null,
   "metadata": {},
   "outputs": [],
   "source": [
    "def log2(x):\n",
    "    numerator = tf.log(x)\n",
    "    denominator = tf.log(tf.constant(2, dtype=numerator.dtype))\n",
    "    return numerator / denominator"
   ]
  },
  {
   "cell_type": "code",
   "execution_count": null,
   "metadata": {},
   "outputs": [],
   "source": [
    "new_smallest = tf.pow(2, tf.cast(log2(smallest_nps), tf.int32))"
   ]
  },
  {
   "cell_type": "code",
   "execution_count": null,
   "metadata": {},
   "outputs": [],
   "source": [
    "def tf_diff_axis_0(a):\n",
    "    return a[1:]-a[:-1]\n",
    "\n",
    "def tf_diff_axis_1(a):\n",
    "    return a[:,1:]-a[:,:-1]"
   ]
  },
  {
   "cell_type": "code",
   "execution_count": null,
   "metadata": {},
   "outputs": [],
   "source": [
    "df = tf_diff_axis_0(note_freq)"
   ]
  },
  {
   "cell_type": "code",
   "execution_count": null,
   "metadata": {},
   "outputs": [],
   "source": [
    "inner_log = log2(fs/df)"
   ]
  },
  {
   "cell_type": "code",
   "execution_count": null,
   "metadata": {},
   "outputs": [],
   "source": [
    "ceil = tf.ceil(inner_log)"
   ]
  },
  {
   "cell_type": "code",
   "execution_count": null,
   "metadata": {},
   "outputs": [],
   "source": [
    "ceil_pow = tf.pow(tf.constant(2.0, dtype='float64'), ceil)"
   ]
  },
  {
   "cell_type": "code",
   "execution_count": null,
   "metadata": {},
   "outputs": [],
   "source": [
    "ceil_pow_64 = tf.cast(ceil_pow, tf.int64)"
   ]
  },
  {
   "cell_type": "code",
   "execution_count": null,
   "metadata": {},
   "outputs": [],
   "source": [
    "nps = tf.maximum(ceil_pow, smallest_nps)"
   ]
  },
  {
   "cell_type": "code",
   "execution_count": null,
   "metadata": {},
   "outputs": [],
   "source": [
    "nps"
   ]
  },
  {
   "cell_type": "code",
   "execution_count": null,
   "metadata": {},
   "outputs": [],
   "source": [
    "nps_uniq, idx = tf.unique(nps)"
   ]
  },
  {
   "cell_type": "code",
   "execution_count": null,
   "metadata": {},
   "outputs": [],
   "source": [
    "data = []\n",
    "for nperseg in nps_uniq:\n",
    "    data.append(\n",
    "        sg.spectrogram(wav, fs, nperseg=nperseg, noverlap=nperseg-smallest_nps)\n",
    "    )"
   ]
  },
  {
   "cell_type": "code",
   "execution_count": null,
   "metadata": {},
   "outputs": [],
   "source": [
    "guitar_note_wav.shape"
   ]
  },
  {
   "cell_type": "code",
   "execution_count": null,
   "metadata": {},
   "outputs": [],
   "source": [
    "wav = tf.convert_to_tensor(guitar_note_wav, dtype='float32')"
   ]
  },
  {
   "cell_type": "code",
   "execution_count": null,
   "metadata": {},
   "outputs": [],
   "source": [
    "for u in nps_uniq:\n",
    "    print(u)\n",
    "\n",
    "for i in nps_uniq[1]:\n",
    "    print(i)"
   ]
  },
  {
   "cell_type": "code",
   "execution_count": null,
   "metadata": {},
   "outputs": [],
   "source": [
    "tf.contrib.signal.stft(wav, frame_length=nperseg, frame_step=nperseg-smallest_nps, fft_length=256)"
   ]
  },
  {
   "cell_type": "code",
   "execution_count": null,
   "metadata": {},
   "outputs": [],
   "source": [
    "nperseg=nps_uniq[0]"
   ]
  },
  {
   "cell_type": "code",
   "execution_count": null,
   "metadata": {},
   "outputs": [],
   "source": [
    "data = []\n",
    "for nperseg in nps_uniq[1]:\n",
    "    magnitude_spectrograms = tf.abs()"
   ]
  },
  {
   "cell_type": "code",
   "execution_count": null,
   "metadata": {},
   "outputs": [],
   "source": [
    "spectrogram_patches = tf.contrib.signal.frame(magnitude_spectrograms, frame_length=64, frame_step=16, axis=1)"
   ]
  },
  {
   "cell_type": "code",
   "execution_count": null,
   "metadata": {},
   "outputs": [],
   "source": [
    "reconstructed_signals = tf.contrib.signal.overlap_and_add(frames, frame_step=32)"
   ]
  },
  {
   "cell_type": "code",
   "execution_count": null,
   "metadata": {},
   "outputs": [],
   "source": []
  }
 ],
 "metadata": {
  "kernelspec": {
   "display_name": "example1",
   "language": "python",
   "name": "example1"
  },
  "language_info": {
   "codemirror_mode": {
    "name": "ipython",
    "version": 3
   },
   "file_extension": ".py",
   "mimetype": "text/x-python",
   "name": "python",
   "nbconvert_exporter": "python",
   "pygments_lexer": "ipython3",
   "version": "3.6.6"
  }
 },
 "nbformat": 4,
 "nbformat_minor": 2
}
