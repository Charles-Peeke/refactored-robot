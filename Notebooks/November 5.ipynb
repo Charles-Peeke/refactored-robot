{
 "cells": [
  {
   "cell_type": "code",
   "execution_count": 7,
   "metadata": {},
   "outputs": [
    {
     "name": "stdout",
     "output_type": "stream",
     "text": [
      "The autoreload extension is already loaded. To reload it, use:\n",
      "  %reload_ext autoreload\n"
     ]
    }
   ],
   "source": [
    "%load_ext autoreload\n",
    "%autoreload 2\n",
    "\n",
    "from __future__ import division\n",
    "import numpy as np\n",
    "import scipy.signal as sg\n",
    "from scipy.fftpack import rfft, fftfreq\n",
    "from scipy.io import wavfile\n",
    "import matplotlib.pyplot as plt\n",
    "import matplotlib.patches as patches\n",
    "%matplotlib inline\n",
    "import matplotlib.colors as colors\n",
    "from pydub import AudioSegment\n",
    "import math as m\n",
    "import tensorflow as tf\n",
    "import utilities as util"
   ]
  },
  {
   "cell_type": "code",
   "execution_count": 8,
   "metadata": {},
   "outputs": [
    {
     "name": "stderr",
     "output_type": "stream",
     "text": [
      "/Users/Peeke/Honors/refactored-robot/Notebooks/utilities.py:112: RuntimeWarning: invalid value encountered in true_divide\n",
      "  weights = vals/sums # the weights for each time\n"
     ]
    }
   ],
   "source": [
    "bells_fs,        bells_wav,        bells_freq,        bells_time,        bells_spec,        bells_argsort,        bells_corr,        bells_nf,        bells_argsort_corr        = util.gather_data('../samples/HandBells.wav')\n",
    "chords_fs,       chords_wav,       chords_freq,       chords_time,       chords_spec,       chords_argsort,       chords_corr,       chords_nf,       chords_argsort_corr       = util.gather_data('../samples/Chords.wav')\n",
    "piano_mel_fs,    piano_mel_wav,    piano_mel_freq,    piano_mel_time,    piano_mel_spec,    piano_mel_argsort,    piano_mel_corr,    piano_mel_nf,    piano_mel_argsort_corr    = util.gather_data('../samples/Piano.wav')\n",
    "guitar_tun_fs,   guitar_tun_wav,   guitar_tun_freq,   guitar_tun_time,   guitar_tun_spec,   guitar_tun_argsort,   guitar_tun_corr,   guitar_tun_nf,   guitar_tun_argsort_corr   = util.gather_data('../samples/Guitar.wav')\n",
    "piano_note_fs,   piano_note_wav,   piano_note_freq,   piano_note_time,   piano_note_spec,   piano_note_argsort,   piano_note_corr,   piano_note_nf,   piano_note_argsort_corr   = util.gather_data('../samples/Piano_C_Major_Note.wav')\n",
    "tbone_note_fs,   tbone_note_wav,   tbone_note_freq,   tbone_note_time,   tbone_note_spec,   tbone_note_argsort,   tbone_note_corr,   tbone_note_nf,   tbone_note_argsort_corr   = util.gather_data('../samples/Trombone_C_Major_Note.wav')\n",
    "guitar_note_fs,  guitar_note_wav,  guitar_note_freq,  guitar_note_time,  guitar_note_spec,  guitar_note_argsort,  guitar_note_corr,  guitar_note_nf,  guitar_note_argsort_corr  = util.gather_data('../samples/Guitar_C_Major_Note.wav')\n",
    "piano_scale_fs,  piano_scale_wav,  piano_scale_freq,  piano_scale_time,  piano_scale_spec,  piano_scale_argsort,  piano_scale_corr,  piano_scale_nf,  piano_scale_argsort_corr  = util.gather_data('../samples/Piano_C_Major_Scale.wav')\n",
    "tbone_scale_fs,  tbone_scale_wav,  tbone_scale_freq,  tbone_scale_time,  tbone_scale_spec,  tbone_scale_argsort,  tbone_scale_corr,  tbone_scale_nf,  tbone_scale_argsort_corr  = util.gather_data('../samples/Trombone_C_Major_Scale.wav')\n",
    "guitar_scale_fs, guitar_scale_wav, guitar_scale_freq, guitar_scale_time, guitar_scale_spec, guitar_scale_argsort, guitar_scale_corr, guitar_scale_nf, guitar_scale_argsort_corr = util.gather_data('../samples/Guitar_C_Major_Scale.wav')"
   ]
  },
  {
   "cell_type": "code",
   "execution_count": null,
   "metadata": {},
   "outputs": [],
   "source": []
  },
  {
   "cell_type": "code",
   "execution_count": 110,
   "metadata": {},
   "outputs": [],
   "source": [
    "def normal_peak(vals, freq):\n",
    "    import numpy as np\n",
    "    if len(freq) == 1: return vals\n",
    "    df = freq[1] - freq[0]\n",
    "    sums = vals.sum(0, keepdims=True) \n",
    "    weights = vals/sums # the weights for each time\n",
    "    mean = (weights*freq[:,None]).sum(0, keepdims=True) \n",
    "    var = (((freq[:,None]-mean)**2)*weights).sum(0)/df \n",
    "    peak = 1/np.sqrt(2*np.pi*var)\n",
    "    peak *= df*sums.squeeze()\n",
    "    return peak\n"
   ]
  },
  {
   "cell_type": "code",
   "execution_count": null,
   "metadata": {},
   "outputs": [],
   "source": []
  },
  {
   "cell_type": "code",
   "execution_count": 10,
   "metadata": {},
   "outputs": [],
   "source": [
    "import numpy as np\n",
    "\n",
    "def my_func(arg):\n",
    "    arg = tf.convert_to_tensor(arg, dtype=tf.float32)\n",
    "    return tf.matmul(arg, arg) + arg"
   ]
  },
  {
   "cell_type": "code",
   "execution_count": 112,
   "metadata": {},
   "outputs": [],
   "source": [
    "freq = guitar_note_freq\n",
    "vals = guitar_note_spec\n",
    "\n",
    "df = (freq[1] - freq[0])\n",
    "\n",
    "sums = tf.reduce_sum(vals, 0, keepdims=True)\n",
    "\n",
    "weights = vals/sums\n",
    "\n",
    "mean = tf.reduce_sum(weights*freq[:,None], 0, keepdims=True) # the weighted mean\n",
    "\n",
    "var = tf.truediv(tf.reduce_sum(((freq[:,None]-mean)**2)*weights, 0),df)\n",
    "\n",
    "denom_var = tf.multiply(tf.constant(2.0, dtype='float64'), m.pi)\n",
    "\n",
    "denom_var_mult = tf.scalar_mul(denom_var, var)\n",
    "# Start of nans.. Sometimes slighty < 0...\n",
    "# denom = tf.sqrt(denom_var_mult) if (denom_var_mult > 0) else 0\n",
    "denom = tf.sqrt(tf.abs(denom_var_mult))\n",
    "\n",
    "dst_peak = tf.truediv(tf.constant(1.0, dtype='float64'),denom)\n",
    "\n",
    "peak = dst_peak * df * tf.squeeze(sums) if (dst_peak != 'Nan') else 0"
   ]
  },
  {
   "cell_type": "code",
   "execution_count": 108,
   "metadata": {},
   "outputs": [
    {
     "data": {
      "text/plain": [
       "array([3.68854778e+01, 4.97238175e+01, 3.90355817e+05, 7.19992699e+05,\n",
       "       5.08514053e+05, 3.60702271e+05, 2.38383047e+05, 1.22335667e+05,\n",
       "       7.18542279e+04, 3.69670048e+04, 1.77540660e+04, 1.23397450e+03,\n",
       "       4.70679549e+01])"
      ]
     },
     "execution_count": 108,
     "metadata": {},
     "output_type": "execute_result"
    }
   ],
   "source": [
    "util.normal_peak(vals, freq)"
   ]
  },
  {
   "cell_type": "code",
   "execution_count": 113,
   "metadata": {},
   "outputs": [
    {
     "data": {
      "text/plain": [
       "array([3.68854778e+01, 4.97238175e+01, 3.90355817e+05, 7.19992699e+05,\n",
       "       5.08514053e+05, 3.60702271e+05, 2.38383047e+05, 1.22335667e+05,\n",
       "       7.18542279e+04, 3.69670048e+04, 1.77540660e+04, 1.23397450e+03,\n",
       "       4.70679549e+01])"
      ]
     },
     "execution_count": 113,
     "metadata": {},
     "output_type": "execute_result"
    }
   ],
   "source": [
    "normal_peak(vals, freq)"
   ]
  },
  {
   "cell_type": "code",
   "execution_count": 114,
   "metadata": {
    "scrolled": false
   },
   "outputs": [
    {
     "name": "stdout",
     "output_type": "stream",
     "text": [
      "sums  [[4.21674731e+04 4.95493161e+04 3.32534511e+07 4.23357088e+07\n",
      "  3.01628937e+07 2.23053266e+07 1.58615228e+07 9.90821809e+06\n",
      "  6.70954539e+06 4.21179227e+06 2.55619567e+06 4.32600794e+05\n",
      "  4.89599496e+04]]\n",
      "\n",
      "weights  [[2.79018070e-07 3.75496728e-07 1.56758814e-06 ... 5.75175341e-06\n",
      "  2.59929049e-06 3.97297561e-05]\n",
      " [8.20677351e-08 9.37552786e-08 4.07874785e-08 ... 2.72302851e-07\n",
      "  1.46279644e-07 2.46432259e-06]\n",
      " [1.30650075e-06 1.20383666e-06 4.21112279e-08 ... 2.47298356e-07\n",
      "  2.26944315e-07 1.40460929e-06]\n",
      " ...\n",
      " [2.71999373e-11 2.97041284e-11 9.35773192e-14 ... 1.00862810e-12\n",
      "  4.37347574e-13 5.61026193e-11]\n",
      " [2.83566257e-11 4.93894387e-12 1.21124508e-13 ... 7.79248884e-15\n",
      "  3.95149418e-12 1.64451011e-10]\n",
      " [2.96268578e-10 1.15795819e-11 1.60585423e-14 ... 2.81811007e-13\n",
      "  1.90187097e-12 2.14572565e-11]]\n",
      "\n",
      "mean  [[671.01424371 476.99966505 201.21522074 220.30855984 220.11057917\n",
      "  221.93753821 224.28078483 222.6201545  224.97063873 230.77858168\n",
      "  238.35951369 266.67262277 546.21211032]]\n",
      "\n",
      "var  [1506960.11504033 1144995.64214678    8367.76682626    3986.71249592\n",
      "    4056.93004694    4409.37313542    5105.00836648    7563.84041442\n",
      "   10054.00200835   14967.96611222   23902.86525403  141716.26255266\n",
      " 1247638.30263425]\n",
      "\n",
      "denom_var  6.283185307179586\n",
      "\n",
      "denom_var_mult  [9468509.65332707 7194219.7955213    52576.22957667   25049.25337833\n",
      "   25490.4432632    27704.90849837   32075.71356128   47525.01095774\n",
      "   63171.1576972    94046.50475464  150186.13176363  890429.53865931\n",
      " 7839142.651786  ]\n",
      "\n",
      "denom  [3077.09435236 2682.20427923  229.29507098  158.26955923  159.65726812\n",
      "  166.44791527  179.09693901  218.0023187   251.33873099  306.67002585\n",
      "  387.5385552   943.62574078 2799.84689792]\n",
      "\n",
      "dst_peak  [0.00032498 0.00037283 0.00436119 0.00631833 0.00626342 0.00600789\n",
      " 0.00558357 0.00458711 0.00397869 0.00326083 0.00258039 0.00105974\n",
      " 0.00035716]\n",
      "\n",
      "peak  [3.68854778e+01 4.97238175e+01 3.90355817e+05 7.19992699e+05\n",
      " 5.08514053e+05 3.60702271e+05 2.38383047e+05 1.22335667e+05\n",
      " 7.18542279e+04 3.69670048e+04 1.77540660e+04 1.23397450e+03\n",
      " 4.70679549e+01]\n"
     ]
    }
   ],
   "source": [
    "with tf.Session() as sess:\n",
    "#     print(sess.run(df))\n",
    "    print('sums ', sess.run(sums))\n",
    "    print()\n",
    "    print('weights ', sess.run(weights))\n",
    "    print()\n",
    "    print('mean ', sess.run(mean))\n",
    "    print()\n",
    "    print('var ', sess.run(var))\n",
    "    print()\n",
    "    print('denom_var ', sess.run(denom_var))\n",
    "    print()\n",
    "    print('denom_var_mult ', sess.run(denom_var_mult))\n",
    "    print()\n",
    "    print('denom ', sess.run(denom))\n",
    "    print()\n",
    "    print('dst_peak ', sess.run(dst_peak))\n",
    "    print()\n",
    "    print('peak ', sess.run(peak))"
   ]
  },
  {
   "cell_type": "code",
   "execution_count": null,
   "metadata": {},
   "outputs": [],
   "source": []
  },
  {
   "cell_type": "code",
   "execution_count": null,
   "metadata": {},
   "outputs": [],
   "source": [
    "def gather_data(filename):\n",
    "    import numpy as np\n",
    "    from scipy.io import wavfile\n",
    "    import scipy.signal as sg\n",
    "    fs, wav = wavfile.read(filename)\n",
    "    wav = wav.astype(np.double)\n",
    "    freq, time, spec = sg.spectrogram(wav, fs, nperseg=16384)\n",
    "    arg_sort = np.argsort(spec,  axis=0)\n",
    "    corrections, nf = make_corrections(spec,  freq)\n",
    "    arg_sort_corr = np.argsort(corrections,  axis=0)\n",
    "    return fs, wav, freq, time, spec, arg_sort, corrections, nf, arg_sort_corr"
   ]
  },
  {
   "cell_type": "code",
   "execution_count": 59,
   "metadata": {},
   "outputs": [
    {
     "data": {
      "text/plain": [
       "(8193,)"
      ]
     },
     "execution_count": 59,
     "metadata": {},
     "output_type": "execute_result"
    }
   ],
   "source": [
    "guitar_note_freq.shape"
   ]
  },
  {
   "cell_type": "code",
   "execution_count": 94,
   "metadata": {},
   "outputs": [],
   "source": [
    "num, denom = sg.iirfilter(17, [20,20000], analog=True, ftype='butter')"
   ]
  },
  {
   "cell_type": "code",
   "execution_count": 95,
   "metadata": {},
   "outputs": [
    {
     "data": {
      "image/png": "[encoded data removed]",
      "text/plain": [
       "<Figure size 432x288 with 1 Axes>"
      ]
     },
     "metadata": {
      "needs_background": "light"
     },
     "output_type": "display_data"
    }
   ],
   "source": [
    "w, h = sg.freqs(num, denom, 22000)\n",
    "fig = plt.figure()\n",
    "ax = fig.add_subplot(111)\n",
    "ax.plot(w, 20 * np.log10(abs(h)))\n",
    "ax.set_xscale('log')\n",
    "ax.set_title('Butterworth bandpass frequency response')\n",
    "ax.set_xlabel('Frequency [radians / second]')\n",
    "ax.set_ylabel('Amplitude [dB]')\n",
    "ax.axis((10, 23000, -100, 10))\n",
    "ax.grid(which='both', axis='both')\n",
    "plt.show()"
   ]
  },
  {
   "cell_type": "code",
   "execution_count": 96,
   "metadata": {},
   "outputs": [
    {
     "data": {
      "text/plain": [
       "array([ 0.00000000e+00,  3.46850142e+73, -7.51070233e+78, ...,\n",
       "                   nan,             nan,             nan])"
      ]
     },
     "execution_count": 96,
     "metadata": {},
     "output_type": "execute_result"
    }
   ],
   "source": [
    "sg.lfilter(num, denom, guitar_note_freq)"
   ]
  },
  {
   "cell_type": "code",
   "execution_count": 103,
   "metadata": {},
   "outputs": [
    {
     "name": "stderr",
     "output_type": "stream",
     "text": [
      "/Users/Peeke/Honors/.env/lib/python3.6/site-packages/matplotlib/axes/_base.py:3157: UserWarning: Attempted to set non-positive xlimits for log-scale axis; invalid limits will be ignored.\n",
      "  'Attempted to set non-positive xlimits for log-scale axis; '\n"
     ]
    },
    {
     "data": {
      "image/png": "[encoded data removed]",
      "text/plain": [
       "<Figure size 432x288 with 1 Axes>"
      ]
     },
     "metadata": {
      "needs_background": "light"
     },
     "output_type": "display_data"
    },
    {
     "data": {
      "image/png": "[encoded data removed]",
      "text/plain": [
       "<Figure size 432x288 with 1 Axes>"
      ]
     },
     "metadata": {
      "needs_background": "light"
     },
     "output_type": "display_data"
    },
    {
     "data": {
      "image/png": "[encoded data removed]",
      "text/plain": [
       "<Figure size 432x288 with 1 Axes>"
      ]
     },
     "metadata": {
      "needs_background": "light"
     },
     "output_type": "display_data"
    }
   ],
   "source": [
    "\n",
    "fig = plt.figure()\n",
    "ax = fig.add_subplot(111)\n",
    "ax.plot(guitar_note_freq)\n",
    "ax.set_xscale('log')\n",
    "ax.set_title('Guitar Note Freq')\n",
    "ax.set_xlabel('Frequency [radians / second]')\n",
    "ax.set_ylabel('Amplitude [dB]')\n",
    "ax.axis((0, 1000, -100, 300))\n",
    "ax.grid(which='both', axis='both')\n",
    "plt.show()\n",
    "\n",
    "w, h = sg.freqs(num, denom, 22000)\n",
    "fig = plt.figure()\n",
    "ax = fig.add_subplot(111)\n",
    "ax.plot(w, 20 * np.log10(abs(h)))\n",
    "ax.set_xscale('log')\n",
    "ax.set_title('Butterworth bandpass frequency response')\n",
    "ax.set_xlabel('Frequency [radians / second]')\n",
    "ax.set_ylabel('Amplitude [dB]')\n",
    "ax.axis((10, 1000, -100, 10))\n",
    "ax.grid(which='both', axis='both')\n",
    "plt.show()\n",
    "\n",
    "data = sg.lfilter(num, denom, guitar_note_freq)\n",
    "fig = plt.figure()\n",
    "ax = fig.add_subplot(111)\n",
    "ax.plot(data)\n",
    "ax.set_xscale('log')\n",
    "ax.set_title('Butterworth bandpass Guitar Note')\n",
    "ax.set_xlabel('Frequency [radians / second]')\n",
    "ax.set_ylabel('Amplitude [dB]')\n",
    "ax.axis((10, 1000, -100, 10))\n",
    "ax.grid(which='both', axis='both')\n",
    "plt.show()"
   ]
  },
  {
   "cell_type": "code",
   "execution_count": null,
   "metadata": {},
   "outputs": [],
   "source": []
  },
  {
   "cell_type": "code",
   "execution_count": null,
   "metadata": {},
   "outputs": [],
   "source": []
  }
 ],
 "metadata": {
  "kernelspec": {
   "display_name": "example1",
   "language": "python",
   "name": "example1"
  },
  "language_info": {
   "codemirror_mode": {
    "name": "ipython",
    "version": 3
   },
   "file_extension": ".py",
   "mimetype": "text/x-python",
   "name": "python",
   "nbconvert_exporter": "python",
   "pygments_lexer": "ipython3",
   "version": "3.6.6"
  }
 },
 "nbformat": 4,
 "nbformat_minor": 2
}
