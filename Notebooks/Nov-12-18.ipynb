{
 "cells": [
  {
   "cell_type": "code",
   "execution_count": null,
   "metadata": {},
   "outputs": [],
   "source": [
    "%load_ext autoreload\n",
    "%autoreload 2\n",
    "\n",
    "from __future__ import division\n",
    "import numpy as np\n",
    "import scipy.signal as sg\n",
    "from scipy.fftpack import rfft, fftfreq\n",
    "from scipy.io import wavfile\n",
    "import matplotlib.pyplot as plt\n",
    "import matplotlib.patches as patches\n",
    "%matplotlib inline\n",
    "import matplotlib.colors as colors\n",
    "from pydub import AudioSegment\n",
    "import math as m\n",
    "import tensorflow as tf\n",
    "import utilities as util"
   ]
  },
  {
   "cell_type": "code",
   "execution_count": null,
   "metadata": {},
   "outputs": [],
   "source": [
    "bells_fs,        bells_wav,        bells_freq,        bells_time,        bells_spec,        bells_argsort,        = util.gather_data('../samples/HandBells.wav')\n",
    "chords_fs,       chords_wav,       chords_freq,       chords_time,       chords_spec,       chords_argsort,       = util.gather_data('../samples/Chords.wav')\n",
    "piano_mel_fs,    piano_mel_wav,    piano_mel_freq,    piano_mel_time,    piano_mel_spec,    piano_mel_argsort,    = util.gather_data('../samples/Piano.wav')\n",
    "guitar_tun_fs,   guitar_tun_wav,   guitar_tun_freq,   guitar_tun_time,   guitar_tun_spec,   guitar_tun_argsort,   = util.gather_data('../samples/Guitar.wav')\n",
    "piano_note_fs,   piano_note_wav,   piano_note_freq,   piano_note_time,   piano_note_spec,   piano_note_argsort,   = util.gather_data('../samples/Piano_C_Major_Note.wav')\n",
    "tbone_note_fs,   tbone_note_wav,   tbone_note_freq,   tbone_note_time,   tbone_note_spec,   tbone_note_argsort,   = util.gather_data('../samples/Trombone_C_Major_Note.wav')\n",
    "guitar_note_fs,  guitar_note_wav,  guitar_note_freq,  guitar_note_time,  guitar_note_spec,  guitar_note_argsort,  = util.gather_data('../samples/Guitar_C_Major_Note.wav')\n",
    "piano_scale_fs,  piano_scale_wav,  piano_scale_freq,  piano_scale_time,  piano_scale_spec,  piano_scale_argsort,  = util.gather_data('../samples/Piano_C_Major_Scale.wav')\n",
    "tbone_scale_fs,  tbone_scale_wav,  tbone_scale_freq,  tbone_scale_time,  tbone_scale_spec,  tbone_scale_argsort,  = util.gather_data('../samples/Trombone_C_Major_Scale.wav')\n",
    "guitar_scale_fs, guitar_scale_wav, guitar_scale_freq, guitar_scale_time, guitar_scale_spec, guitar_scale_argsort, = util.gather_data('../samples/Guitar_C_Major_Scale.wav')"
   ]
  },
  {
   "cell_type": "code",
   "execution_count": null,
   "metadata": {},
   "outputs": [],
   "source": [
    "note_freq = util.frequencies('A0', 'D8')\n",
    "df = np.diff(note_freq)\n",
    "\n",
    "smallest_nps = 44100/24 * 4/3 \n",
    "smallest_nps = 2**int(np.log2(smallest_nps))\n",
    "\n",
    "\n",
    "nps = np.maximum(np.int64(2**np.ceil(np.log2(44100/df))), smallest_nps)\n",
    "\n",
    "nps_uniq = list(np.unique(nps))\n",
    "\n",
    "\n",
    "a = 2**(1/12)\n",
    "lo_factor = 0.5*(1+1/a)\n",
    "hi_factor = 0.5*(1+a) \n",
    "\n",
    "data = []\n",
    "for nperseg in nps_uniq:\n",
    "    data.append(sg.spectrogram(wav, 44100, nperseg=nperseg, noverlap=nperseg-smallest_nps))\n",
    "\n",
    "\n",
    "\n",
    "full_spec = np.zeros((len(note_freq)-1, len(data[0][1])))\n",
    "for i,(nf,nperseg) in enumerate(zip(note_freq, nps)):\n",
    "    nps_ind = nps_uniq.index(nperseg)\n",
    "    freq, time, spec = data[nps_ind]\n",
    "    lo = nf*lo_factor\n",
    "    hi = nf*hi_factor\n",
    "    ind = (freq>=lo)&(freq<=hi)\n",
    "#         print(nf, ind.sum(), abs(freq[ind] - nf).min() / nf)\n",
    "    peak = normal_peak(spec[ind,:], freq[ind])\n",
    "    full_spec[i,:len(time)] = peak\n",
    "\n",
    "return note_freq[:-1], data[0][1], full_spec"
   ]
  },
  {
   "cell_type": "code",
   "execution_count": null,
   "metadata": {},
   "outputs": [],
   "source": [
    "note_freq = util.frequencies('A0', 'D8')\n",
    "df = np.diff(note_freq)\n",
    "\n",
    "smallest_nps = 44100/24 * 4/3 \n",
    "smallest_nps = 2**int(np.log2(smallest_nps))\n",
    "nps = np.maximum(np.int64(2**np.ceil(np.log2(44100/df))), smallest_nps)\n",
    "nps_uniq = list(np.unique(nps))\n",
    "a = 2**(1/12)\n",
    "lo_factor = 0.5*(1+1/a)\n",
    "hi_factor = 0.5*(1+a) \n",
    "data = []"
   ]
  },
  {
   "cell_type": "code",
   "execution_count": null,
   "metadata": {},
   "outputs": [],
   "source": [
    "# for nperseg in nps_uniq:\n",
    "#     data.append(sg.spectrogram(wav, 44100, nperseg=nperseg, noverlap=nperseg-smallest_nps))\n",
    "\n",
    "# A batch of float32 time-domain signals in the range [-1, 1] with shape\n",
    "# [batch_size, signal_length]. Both batch_size and signal_length may be unknown.\n",
    "signals = tf.placeholder(tf.float32)\n",
    "\n",
    "# Compute a [batch_size, ?, 128] tensor of fixed length, overlapping windows\n",
    "# where each window overlaps the previous by 75% (frame_length - frame_step\n",
    "# samples of overlap).\n",
    "frames = tf.contrib.signal.frame(signals, frame_length=np.int32(nps_uniq[0]),\n",
    "                                 frame_step=np.int32(2*smallest_nps-nps_uniq[0]))\n",
    "\n",
    "\n",
    "# `stfts` is a complex64 Tensor representing the Short-time Fourier Transform of\n",
    "# each signal in `signals`. Its shape is [batch_size, ?, fft_unique_bins]\n",
    "# where fft_unique_bins = fft_length // 2 + 1 = 513.\n",
    "stfts = tf.contrib.signal.stft(signals, frame_length=np.int32(nps_uniq[0]),\n",
    "                               frame_step=np.int32(2*smallest_nps-nps_uniq[0]),\n",
    "                               fft_length=np.int32(nps_uniq[0]))\n",
    "\n",
    "# A power spectrogram is the squared magnitude of the complex-valued STFT.\n",
    "# A float32 Tensor of shape [batch_size, ?, 513].\n",
    "power_spectrograms = tf.real(stfts * tf.conj(stfts))\n",
    "\n",
    "# An energy spectrogram is the magnitude of the complex-valued STFT.\n",
    "# A float32 Tensor of shape [batch_size, ?, 513].\n",
    "magnitude_spectrograms = tf.abs(stfts)\n",
    "\n",
    "\n",
    "# `spectrogram_patches` is a [batch_size, ?, 64, 129] tensor containing a\n",
    "# variable number of [64, 129] spectrogram patches per batch item.\n",
    "spectrogram_patches = tf.contrib.signal.frame(\n",
    "    magnitude_spectrograms, frame_length=64, frame_step=16, axis=1)\n",
    "\n",
    "\n",
    "# Reconstructs `signals` from `frames` produced in the above example. However,\n",
    "# the magnitude of `reconstructed_signals` will be greater than `signals`.\n",
    "reconstructed_signals = tf.contrib.signal.overlap_and_add(frames, frame_step=32)\n"
   ]
  },
  {
   "cell_type": "code",
   "execution_count": null,
   "metadata": {},
   "outputs": [],
   "source": [
    "with tf.Session() as sess:\n",
    "    spects = sess.run(magnitude_spectrograms, feed_dict={signals:guitar_note_wav})"
   ]
  },
  {
   "cell_type": "code",
   "execution_count": null,
   "metadata": {},
   "outputs": [],
   "source": [
    "spects"
   ]
  },
  {
   "cell_type": "code",
   "execution_count": null,
   "metadata": {},
   "outputs": [],
   "source": [
    "spects.shape"
   ]
  },
  {
   "cell_type": "code",
   "execution_count": null,
   "metadata": {},
   "outputs": [],
   "source": [
    "f, t, sp = sg.spectrogram(guitar_note_wav, 44100, nperseg=nps_uniq[0], noverlap=nps_uniq[0]-smallest_nps)"
   ]
  },
  {
   "cell_type": "code",
   "execution_count": null,
   "metadata": {},
   "outputs": [],
   "source": [
    "sp"
   ]
  },
  {
   "cell_type": "code",
   "execution_count": null,
   "metadata": {},
   "outputs": [],
   "source": [
    "# plt.hist(sp.ravel())\n",
    "util.display_spec(t, f, sp, ylim=100)\n",
    "plt.colorbar()"
   ]
  },
  {
   "cell_type": "code",
   "execution_count": null,
   "metadata": {},
   "outputs": [],
   "source": [
    "# plt.hist(spects.ravel())\n",
    "util.display_spec(t, f, spects.T/2, ylim=100)\n",
    "plt.colorbar()"
   ]
  },
  {
   "cell_type": "code",
   "execution_count": null,
   "metadata": {},
   "outputs": [],
   "source": []
  },
  {
   "cell_type": "code",
   "execution_count": null,
   "metadata": {},
   "outputs": [],
   "source": [
    "guitar_note_spec.shape"
   ]
  },
  {
   "cell_type": "code",
   "execution_count": null,
   "metadata": {},
   "outputs": [],
   "source": [
    "\n",
    "\n",
    "# `magnitude_spectrograms` is a [batch_size, ?, 129] tensor of spectrograms. We\n",
    "# would like to produce overlapping fixed-size spectrogram patches; for example,\n",
    "# for use in a situation where a fixed size input is needed.\n",
    "magnitude_spectrograms = tf.abs(tf.contrib.signal.stft(\n",
    "    signals, frame_length=256, frame_step=64, fft_length=256))\n"
   ]
  },
  {
   "cell_type": "code",
   "execution_count": null,
   "metadata": {},
   "outputs": [],
   "source": [
    "full_spec = np.zeros((len(note_freq)-1, len(data[0][1])))\n",
    "for i,(nf,nperseg) in enumerate(zip(note_freq, nps)):\n",
    "    nps_ind = nps_uniq.index(nperseg)\n",
    "    freq, time, spec = data[nps_ind]\n",
    "    lo = nf*lo_factor\n",
    "    hi = nf*hi_factor\n",
    "    ind = (freq>=lo)&(freq<=hi)\n",
    "    peak = normal_peak(spec[ind,:], freq[ind])\n",
    "    full_spec[i,:len(time)] = peak"
   ]
  }
 ],
 "metadata": {
  "kernelspec": {
   "display_name": "example1",
   "language": "python",
   "name": "example1"
  },
  "language_info": {
   "codemirror_mode": {
    "name": "ipython",
    "version": 3
   },
   "file_extension": ".py",
   "mimetype": "text/x-python",
   "name": "python",
   "nbconvert_exporter": "python",
   "pygments_lexer": "ipython3",
   "version": "3.6.6"
  }
 },
 "nbformat": 4,
 "nbformat_minor": 2
}
