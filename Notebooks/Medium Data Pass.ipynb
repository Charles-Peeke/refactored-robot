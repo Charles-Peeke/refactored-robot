{
 "cells": [
  {
   "cell_type": "code",
   "execution_count": 1,
   "metadata": {},
   "outputs": [],
   "source": [
    "%load_ext autoreload\n",
    "%autoreload 2\n",
    "%reload_ext autoreload\n",
    "\n",
    "import numpy as np\n",
    "from scipy.io import wavfile\n",
    "import tensorflow as tf\n",
    "import utilities as util\n",
    "\n",
    "import matplotlib.pylab as plt \n",
    "\n",
    "import warnings\n",
    "warnings.filterwarnings(\"ignore\", category=wavfile.WavFileWarning)"
   ]
  },
  {
   "cell_type": "code",
   "execution_count": 2,
   "metadata": {},
   "outputs": [
    {
     "name": "stdout",
     "output_type": "stream",
     "text": [
      "CPU times: user 9.53 ms, sys: 634 µs, total: 10.2 ms\n",
      "Wall time: 9.88 ms\n"
     ]
    }
   ],
   "source": [
    "%%time\n",
    "nps_uniq, dfreqs, notes = util.precompute_spect()\n",
    "smallest_nps = 44100/24 * 4/3 \n",
    "smallest_nps = 2**int(np.log2(smallest_nps))\n",
    "note_freq = util.frequencies('A0', 'D8')\n",
    "sample_files, target_vals = util.gather_samples(util.note_names('C1', 'G1'), 2) # Guitar, Trombone, Piano\n",
    "init = tf.global_variables_initializer()\n"
   ]
  },
  {
   "cell_type": "code",
   "execution_count": 3,
   "metadata": {},
   "outputs": [
    {
     "name": "stdout",
     "output_type": "stream",
     "text": [
      "CPU times: user 15min 45s, sys: 1.82 s, total: 15min 47s\n",
      "Wall time: 15min 49s\n"
     ]
    }
   ],
   "source": [
    "%%time\n",
    "\n",
    "all_specs = []\n",
    "for sf in sample_files:\n",
    "    s = util.preprocess(sf, nps_uniq, dfreqs, notes, smallest_nps, note_freq)\n",
    "    all_specs.append(s)"
   ]
  },
  {
   "cell_type": "code",
   "execution_count": 4,
   "metadata": {},
   "outputs": [],
   "source": []
  },
  {
   "cell_type": "code",
   "execution_count": 5,
   "metadata": {},
   "outputs": [],
   "source": [
    "X = tf.placeholder(tf.float16, shape=(None,n_inputs), name=\"X\")\n",
    "y = tf.placeholder(tf.int64, shape=(None), name=\"y\")"
   ]
  },
  {
   "cell_type": "code",
   "execution_count": 6,
   "metadata": {},
   "outputs": [
    {
     "data": {
      "text/plain": [
       "TensorShape([Dimension(None), Dimension(7744)])"
      ]
     },
     "execution_count": 6,
     "metadata": {},
     "output_type": "execute_result"
    }
   ],
   "source": [
    "X.shape"
   ]
  },
  {
   "cell_type": "code",
   "execution_count": 7,
   "metadata": {},
   "outputs": [
    {
     "name": "stdout",
     "output_type": "stream",
     "text": [
      "CPU times: user 30.4 ms, sys: 2 µs, total: 30.4 ms\n",
      "Wall time: 30.3 ms\n"
     ]
    }
   ],
   "source": [
    "%%time\n",
    "\n",
    "n_hidden1 = 2500\n",
    "n_hidden2 = 500\n",
    "n_outputs = 3\n",
    "\n",
    "with tf.name_scope(\"network\"):\n",
    "    hidden1 = tf.layers.dense(X, n_hidden1, name=\"hidden1\", activation=tf.nn.relu) # Play with activations\n",
    "    hidden2 = tf.layers.dense(hidden1, n_hidden2, name=\"hidden2\", activation=tf.nn.relu) # Play with activations\n",
    "    net_results = tf.layers.dense(hidden2, n_outputs, name=\"outputs\")"
   ]
  },
  {
   "cell_type": "code",
   "execution_count": 8,
   "metadata": {},
   "outputs": [
    {
     "name": "stdout",
     "output_type": "stream",
     "text": [
      "CPU times: user 3.01 ms, sys: 0 ns, total: 3.01 ms\n",
      "Wall time: 2.85 ms\n"
     ]
    }
   ],
   "source": [
    "%%time\n",
    "\n",
    "with tf.name_scope(\"loss\"):\n",
    "    xentropy = tf.nn.sparse_softmax_cross_entropy_with_logits(labels=y, logits=net_results)\n",
    "    loss = tf.reduce_mean(xentropy, name=\"loss\")"
   ]
  },
  {
   "cell_type": "code",
   "execution_count": 9,
   "metadata": {},
   "outputs": [
    {
     "name": "stdout",
     "output_type": "stream",
     "text": [
      "CPU times: user 109 ms, sys: 4 µs, total: 109 ms\n",
      "Wall time: 108 ms\n"
     ]
    }
   ],
   "source": [
    "%%time\n",
    "learning_rate = 0.01\n",
    "\n",
    "with tf.name_scope(\"train\"):\n",
    "    optimizer = tf.train.GradientDescentOptimizer(learning_rate)\n",
    "    training_op = optimizer.minimize(loss)"
   ]
  },
  {
   "cell_type": "code",
   "execution_count": 10,
   "metadata": {},
   "outputs": [
    {
     "name": "stdout",
     "output_type": "stream",
     "text": [
      "CPU times: user 3.03 ms, sys: 3 µs, total: 3.03 ms\n",
      "Wall time: 2.81 ms\n"
     ]
    }
   ],
   "source": [
    "%%time\n",
    "with tf.name_scope(\"eval\"):\n",
    "    correct = tf.nn.in_top_k(tf.cast(net_results, tf.float32), y, 1)\n",
    "    accuracy = tf.reduce_mean(tf.cast(correct, tf.float32))"
   ]
  },
  {
   "cell_type": "code",
   "execution_count": null,
   "metadata": {},
   "outputs": [],
   "source": []
  },
  {
   "cell_type": "code",
   "execution_count": 11,
   "metadata": {},
   "outputs": [
    {
     "name": "stdout",
     "output_type": "stream",
     "text": [
      "CPU times: user 3min 7s, sys: 2.8 s, total: 3min 10s\n",
      "Wall time: 3min 9s\n"
     ]
    }
   ],
   "source": [
    "%%time\n",
    "\n",
    "spectrograms = []\n",
    "with tf.Session() as sess:\n",
    "    sess.run(tf.global_variables_initializer())\n",
    "    spectrograms = sess.run(all_specs)"
   ]
  },
  {
   "cell_type": "code",
   "execution_count": 12,
   "metadata": {},
   "outputs": [
    {
     "name": "stdout",
     "output_type": "stream",
     "text": [
      "(7744,)\n",
      "(7744,)\n",
      "(7744,)\n",
      "(7744,)\n",
      "(7744,)\n",
      "(7744,)\n",
      "(7744,)\n",
      "(7744,)\n",
      "(7744,)\n",
      "(7744,)\n",
      "(7744,)\n",
      "(7744,)\n",
      "(7744,)\n",
      "(7744,)\n",
      "(7744,)\n",
      "(7744,)\n",
      "(7744,)\n",
      "(7744,)\n",
      "(7744,)\n",
      "(7744,)\n",
      "(7744,)\n",
      "(7744,)\n",
      "(7744,)\n",
      "(7744,)\n",
      "(7744,)\n",
      "(7744,)\n",
      "(7744,)\n",
      "(7744,)\n",
      "(7744,)\n",
      "(7744,)\n",
      "(7744,)\n",
      "(7744,)\n",
      "(7744,)\n",
      "(7744,)\n",
      "(7744,)\n",
      "(7744,)\n",
      "(7744,)\n",
      "(7744,)\n",
      "(7744,)\n",
      "(7744,)\n",
      "(7744,)\n",
      "(7744,)\n",
      "CPU times: user 6.98 ms, sys: 1 ms, total: 7.98 ms\n",
      "Wall time: 5.96 ms\n"
     ]
    }
   ],
   "source": [
    "%%time\n",
    "new_specs22 = []\n",
    "for i in range(len(all_specs)):\n",
    "    new_spectrograms = []\n",
    "    end = len(np.trim_zeros(spectrograms[i].sum(1), 'b'))\n",
    "    new_spectrograms = np.concatenate(spectrograms[i][:,:end]).ravel()\n",
    "#     print(new_spectrograms.shape)\n",
    "    new_specs22.append(new_spectrograms)"
   ]
  },
  {
   "cell_type": "code",
   "execution_count": 13,
   "metadata": {},
   "outputs": [
    {
     "name": "stdout",
     "output_type": "stream",
     "text": [
      "0 Train accuracy: 0 Val accuracy: 1.0\n",
      "1 Train accuracy: 0 Val accuracy: 1.0\n",
      "2 Train accuracy: 0 Val accuracy: 1.0\n",
      "3 Train accuracy: 0 Val accuracy: 1.0\n",
      "4 Train accuracy: 0 Val accuracy: 1.0\n",
      "5 Train accuracy: 0 Val accuracy: 1.0\n",
      "6 Train accuracy: 0 Val accuracy: 1.0\n",
      "7 Train accuracy: 0 Val accuracy: 1.0\n",
      "8 Train accuracy: 0 Val accuracy: 1.0\n",
      "9 Train accuracy: 0 Val accuracy: 1.0\n",
      "CPU times: user 19.8 s, sys: 480 ms, total: 20.3 s\n",
      "Wall time: 21.7 s\n"
     ]
    }
   ],
   "source": [
    "%%time\n",
    "saver = tf.train.Saver()\n",
    "\n",
    "n_epochs = 10\n",
    "batch_size = 3\n",
    "with tf.Session() as sess:\n",
    "    sess.run(tf.global_variables_initializer())\n",
    "    for epoch in range(n_epochs):\n",
    "#         for iteration in range(len(new_specs22) // batch_size):\n",
    "        X_batch = new_specs22\n",
    "        Y_batch = target_vals\n",
    "        sess.run(training_op, feed_dict={X: np.stack(X_batch),\n",
    "                                         y: np.array(Y_batch)})\n",
    "#         acc_train = accuracy.eval(feed_dict={X: X_batch, y: [0,1,2]})\n",
    "        acc_val = accuracy.eval(feed_dict={X: X_batch, y: Y_batch})\n",
    "        print(epoch, \"Val accuracy:\", acc_val)\n",
    "\n",
    "    save_path = saver.save(sess, \"./FirstNetwork.ckpt\")"
   ]
  },
  {
   "cell_type": "code",
   "execution_count": 14,
   "metadata": {},
   "outputs": [],
   "source": [
    "new_sample_files = []\n",
    "new_target_vals = []\n",
    "new_location = '../samples/'\n",
    "new_instruments = ['Trombone', 'Guitar', 'Piano']\n",
    "for i, new_name in enumerate(new_instruments):\n",
    "    for new_note in (util.note_names('C1', 'F1')):\n",
    "        for j in range(2, 3):\n",
    "            new_file_name = new_location + new_name+\"/\"+new_name +\"_\"+new_note[:-1]+\"(\"+str(j)+\").wav\"\n",
    "            new_sample_files.append(new_file_name)\n",
    "            new_target_vals.append(i)"
   ]
  },
  {
   "cell_type": "code",
   "execution_count": 15,
   "metadata": {},
   "outputs": [
    {
     "name": "stdout",
     "output_type": "stream",
     "text": [
      "CPU times: user 5min 56s, sys: 429 ms, total: 5min 57s\n",
      "Wall time: 5min 58s\n"
     ]
    }
   ],
   "source": [
    "%%time\n",
    "# Preprocess all of the sample files\n",
    "# Create lists of all of the frequencies, times and spectrograms\n",
    "new_all_freqs = note_freq[:-1]\n",
    "new_all_specs = []\n",
    "new_all_names = []\n",
    "for sf in new_sample_files:\n",
    "    # TODO: TF_SPEC needs all of these constants. Is there a way that we can reduce the parameters?\n",
    "    new_s = util.preprocess(sf, nps_uniq, dfreqs, notes, smallest_nps, note_freq)\n",
    "    new_all_specs.append(s)"
   ]
  },
  {
   "cell_type": "code",
   "execution_count": 16,
   "metadata": {},
   "outputs": [],
   "source": [
    "with tf.Session() as sess:\n",
    "    sess.run(tf.global_variables_initializer())\n",
    "    spectrograms2 = sess.run(new_all_specs)"
   ]
  },
  {
   "cell_type": "code",
   "execution_count": 17,
   "metadata": {},
   "outputs": [
    {
     "name": "stdout",
     "output_type": "stream",
     "text": [
      "CPU times: user 1.1 ms, sys: 1 µs, total: 1.1 ms\n",
      "Wall time: 812 µs\n"
     ]
    }
   ],
   "source": [
    "%%time\n",
    "new_specs33 = []\n",
    "for i in range(len(new_all_specs)):\n",
    "    new_spectrograms2 = []\n",
    "    end = len(np.trim_zeros(spectrograms2[i].sum(1), 'b'))\n",
    "    new_spectrograms2 = np.concatenate(spectrograms2[i][:,:end]).ravel()\n",
    "    new_specs33.append(new_spectrograms2)"
   ]
  },
  {
   "cell_type": "code",
   "execution_count": 18,
   "metadata": {},
   "outputs": [
    {
     "name": "stdout",
     "output_type": "stream",
     "text": [
      "INFO:tensorflow:Restoring parameters from ./FirstNetwork.ckpt\n"
     ]
    }
   ],
   "source": [
    "depth = 3\n",
    "with tf.Session() as sess:\n",
    "    saver.restore(sess, \"./FirstNetwork.ckpt\")\n",
    "    Z = net_results.eval(feed_dict={X: new_specs33})"
   ]
  },
  {
   "cell_type": "code",
   "execution_count": 20,
   "metadata": {},
   "outputs": [
    {
     "data": {
      "text/plain": [
       "array([[0., 0., 0.],\n",
       "       [0., 0., 0.],\n",
       "       [0., 0., 0.],\n",
       "       [0., 0., 0.],\n",
       "       [0., 0., 0.],\n",
       "       [0., 0., 0.],\n",
       "       [0., 0., 0.],\n",
       "       [0., 0., 0.],\n",
       "       [0., 0., 0.],\n",
       "       [0., 0., 0.],\n",
       "       [0., 0., 0.],\n",
       "       [0., 0., 0.],\n",
       "       [0., 0., 0.],\n",
       "       [0., 0., 0.],\n",
       "       [0., 0., 0.]], dtype=float16)"
      ]
     },
     "execution_count": 20,
     "metadata": {},
     "output_type": "execute_result"
    }
   ],
   "source": [
    "Z"
   ]
  },
  {
   "cell_type": "code",
   "execution_count": 21,
   "metadata": {},
   "outputs": [
    {
     "data": {
      "text/plain": [
       "[0, 0, 0, 0, 0, 1, 1, 1, 1, 1, 2, 2, 2, 2, 2]"
      ]
     },
     "execution_count": 21,
     "metadata": {},
     "output_type": "execute_result"
    }
   ],
   "source": [
    "new_target_vals"
   ]
  },
  {
   "cell_type": "code",
   "execution_count": null,
   "metadata": {},
   "outputs": [],
   "source": []
  }
 ],
 "metadata": {
  "kernelspec": {
   "display_name": "Python 3",
   "language": "python",
   "name": "python3"
  },
  "language_info": {
   "codemirror_mode": {
    "name": "ipython",
    "version": 3
   },
   "file_extension": ".py",
   "mimetype": "text/x-python",
   "name": "python",
   "nbconvert_exporter": "python",
   "pygments_lexer": "ipython3",
   "version": "3.7.2"
  }
 },
 "nbformat": 4,
 "nbformat_minor": 2
}
