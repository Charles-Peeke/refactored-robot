{
 "cells": [
  {
   "cell_type": "code",
   "execution_count": 1,
   "metadata": {},
   "outputs": [
    {
     "name": "stderr",
     "output_type": "stream",
     "text": [
      "/Library/Frameworks/Python.framework/Versions/3.6/lib/python3.6/importlib/_bootstrap.py:219: RuntimeWarning: compiletime version 3.5 of module 'tensorflow.python.framework.fast_tensor_util' does not match runtime version 3.6\n",
      "  return f(*args, **kwds)\n"
     ]
    }
   ],
   "source": [
    "%load_ext autoreload\n",
    "%autoreload 2\n",
    "\n",
    "from __future__ import division\n",
    "import numpy as np\n",
    "import scipy.signal as sg\n",
    "from scipy.fftpack import rfft, fftfreq\n",
    "from scipy.io import wavfile\n",
    "import matplotlib.pyplot as plt\n",
    "import matplotlib.patches as patches\n",
    "%matplotlib inline\n",
    "import matplotlib.colors as colors\n",
    "from pydub import AudioSegment\n",
    "import math as m\n",
    "import tensorflow as tf\n",
    "import utilities as util"
   ]
  },
  {
   "cell_type": "code",
   "execution_count": 5,
   "metadata": {},
   "outputs": [],
   "source": [
    "guitar_note_fs,  guitar_note_wav,  guitar_note_freq,  guitar_note_time,  guitar_note_spec,  guitar_note_argsort  = util.gather_data('../samples/Guitar_C_Major_Note.wav')"
   ]
  },
  {
   "cell_type": "code",
   "execution_count": 7,
   "metadata": {},
   "outputs": [],
   "source": [
    "nps_uniq, dfreqs, notes = util.precompute_spect()"
   ]
  },
  {
   "cell_type": "code",
   "execution_count": 44,
   "metadata": {},
   "outputs": [],
   "source": [
    "def tf_normal_peak(vals, dfreq):\n",
    "    if vals.shape[0] == 1: return vals\n",
    "    sums = tf.reduce_sum(vals, 0, keepdims=True)\n",
    "    weights = vals/sums\n",
    "    freqs = tf.range(tf.cast(tf.shape(vals)[0], 'float64'), dtype='float64')\n",
    "    mean = tf.reduce_sum(\n",
    "        tf.cast(weights, 'float64') * tf.cast(freqs[:,None], 'float64'),  \n",
    "        axis=0,\n",
    "        keepdims=True)\n",
    "    \n",
    "    var = tf.truediv(tf.reduce_sum(tf.cast(((freqs[:,None]-mean)**2), 'float64')*tf.cast(weights, 'float64'), 0),dfreq)\n",
    "    denom_var = tf.multiply(tf.constant(2.0, dtype='float64'), m.pi)\n",
    "    denom_var_mult = tf.scalar_mul(denom_var, var)\n",
    "    denom = tf.sqrt(tf.abs(denom_var_mult))\n",
    "    dst_peak = tf.truediv(tf.constant(1.0, dtype='float64'),denom)\n",
    "    peak = (tf.cast(dst_peak, 'float64') * tf.cast(dfreq, 'float64') * tf.cast(tf.squeeze(sums), 'float64')) if (dst_peak != 'Nan') else 0\n",
    "    return peak"
   ]
  },
  {
   "cell_type": "code",
   "execution_count": 10,
   "metadata": {},
   "outputs": [],
   "source": [
    "smallest_nps = 44100/24 * 4/3 \n",
    "smallest_nps = 2**int(np.log2(smallest_nps))"
   ]
  },
  {
   "cell_type": "code",
   "execution_count": 45,
   "metadata": {},
   "outputs": [
    {
     "name": "stdout",
     "output_type": "stream",
     "text": [
      "...\n",
      "...\n",
      "...\n",
      "...\n",
      "...\n"
     ]
    }
   ],
   "source": [
    "full_spec = []\n",
    "for nperseg in nps_uniq:\n",
    "    print('...')\n",
    "    signals = tf.placeholder(tf.float32)\n",
    "\n",
    "    frames = tf.contrib.signal.frame(signals, frame_length=np.int32(nperseg),\n",
    "                                     frame_step=np.int32(nperseg-smallest_nps))\n",
    "    stfts = tf.contrib.signal.stft(signals, frame_length=np.int32(nperseg),\n",
    "                                   frame_step=np.int32(nperseg-smallest_nps),\n",
    "                                   fft_length=np.int32(nperseg))\n",
    "#     power_spectrograms = tf.real(stfts * tf.conj(stfts))\n",
    "    magnitude_spectrograms = tf.abs(stfts)\n",
    "    full_spec.append(magnitude_spectrograms)\n",
    "\n",
    "for nps_ind, slc in notes:\n",
    "    tf_spec = full_spec[nps_ind]\n",
    "    tf_np = tf_normal_peak(tf_spec[:,slc], dfreqs[nps_ind])\n"
   ]
  },
  {
   "cell_type": "code",
   "execution_count": null,
   "metadata": {},
   "outputs": [],
   "source": []
  }
 ],
 "metadata": {
  "kernelspec": {
   "display_name": "example1",
   "language": "python",
   "name": "example1"
  },
  "language_info": {
   "codemirror_mode": {
    "name": "ipython",
    "version": 3
   },
   "file_extension": ".py",
   "mimetype": "text/x-python",
   "name": "python",
   "nbconvert_exporter": "python",
   "pygments_lexer": "ipython3",
   "version": "3.6.6"
  }
 },
 "nbformat": 4,
 "nbformat_minor": 2
}
