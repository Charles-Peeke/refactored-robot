{
 "cells": [
  {
   "cell_type": "code",
   "execution_count": 3,
   "metadata": {},
   "outputs": [
    {
     "name": "stderr",
     "output_type": "stream",
     "text": [
      "/Library/Frameworks/Python.framework/Versions/3.6/lib/python3.6/importlib/_bootstrap.py:219: RuntimeWarning: compiletime version 3.5 of module 'tensorflow.python.framework.fast_tensor_util' does not match runtime version 3.6\n",
      "  return f(*args, **kwds)\n"
     ]
    }
   ],
   "source": [
    "%load_ext autoreload\n",
    "%autoreload 2\n",
    "\n",
    "from __future__ import division\n",
    "import numpy as np\n",
    "import scipy.signal as sg\n",
    "from scipy.fftpack import rfft, fftfreq\n",
    "from scipy.io import wavfile\n",
    "import matplotlib.pyplot as plt\n",
    "import matplotlib.patches as patches\n",
    "%matplotlib inline\n",
    "import matplotlib.colors as colors\n",
    "from pydub import AudioSegment\n",
    "import math as m\n",
    "import tensorflow as tf\n",
    "import utilities as util"
   ]
  },
  {
   "cell_type": "code",
   "execution_count": 10,
   "metadata": {},
   "outputs": [],
   "source": [
    "sample_files = []\n",
    "location = '../samples/'\n",
    "instruments = ['Trombone', 'Guitar']\n",
    "for name in instruments:\n",
    "    for note in (util.note_names('C1', 'C2')):\n",
    "        for j in range(1, 6):\n",
    "            file_name = location +name+\"/\"+name +\"_\"+note[:-1]+\"(\"+str(j)+\").wav\"\n",
    "            sample_files.append(file_name)"
   ]
  },
  {
   "cell_type": "code",
   "execution_count": 11,
   "metadata": {},
   "outputs": [
    {
     "data": {
      "text/plain": [
       "['../samples/Trombone/Trombone_C(1).wav',\n",
       " '../samples/Trombone/Trombone_C(2).wav',\n",
       " '../samples/Trombone/Trombone_C(3).wav',\n",
       " '../samples/Trombone/Trombone_C(4).wav',\n",
       " '../samples/Trombone/Trombone_C(5).wav',\n",
       " '../samples/Trombone/Trombone_C#(1).wav',\n",
       " '../samples/Trombone/Trombone_C#(2).wav',\n",
       " '../samples/Trombone/Trombone_C#(3).wav',\n",
       " '../samples/Trombone/Trombone_C#(4).wav',\n",
       " '../samples/Trombone/Trombone_C#(5).wav',\n",
       " '../samples/Trombone/Trombone_D(1).wav',\n",
       " '../samples/Trombone/Trombone_D(2).wav',\n",
       " '../samples/Trombone/Trombone_D(3).wav',\n",
       " '../samples/Trombone/Trombone_D(4).wav',\n",
       " '../samples/Trombone/Trombone_D(5).wav',\n",
       " '../samples/Trombone/Trombone_D#(1).wav',\n",
       " '../samples/Trombone/Trombone_D#(2).wav',\n",
       " '../samples/Trombone/Trombone_D#(3).wav',\n",
       " '../samples/Trombone/Trombone_D#(4).wav',\n",
       " '../samples/Trombone/Trombone_D#(5).wav',\n",
       " '../samples/Trombone/Trombone_E(1).wav',\n",
       " '../samples/Trombone/Trombone_E(2).wav',\n",
       " '../samples/Trombone/Trombone_E(3).wav',\n",
       " '../samples/Trombone/Trombone_E(4).wav',\n",
       " '../samples/Trombone/Trombone_E(5).wav',\n",
       " '../samples/Trombone/Trombone_F(1).wav',\n",
       " '../samples/Trombone/Trombone_F(2).wav',\n",
       " '../samples/Trombone/Trombone_F(3).wav',\n",
       " '../samples/Trombone/Trombone_F(4).wav',\n",
       " '../samples/Trombone/Trombone_F(5).wav',\n",
       " '../samples/Trombone/Trombone_F#(1).wav',\n",
       " '../samples/Trombone/Trombone_F#(2).wav',\n",
       " '../samples/Trombone/Trombone_F#(3).wav',\n",
       " '../samples/Trombone/Trombone_F#(4).wav',\n",
       " '../samples/Trombone/Trombone_F#(5).wav',\n",
       " '../samples/Trombone/Trombone_G(1).wav',\n",
       " '../samples/Trombone/Trombone_G(2).wav',\n",
       " '../samples/Trombone/Trombone_G(3).wav',\n",
       " '../samples/Trombone/Trombone_G(4).wav',\n",
       " '../samples/Trombone/Trombone_G(5).wav',\n",
       " '../samples/Trombone/Trombone_G#(1).wav',\n",
       " '../samples/Trombone/Trombone_G#(2).wav',\n",
       " '../samples/Trombone/Trombone_G#(3).wav',\n",
       " '../samples/Trombone/Trombone_G#(4).wav',\n",
       " '../samples/Trombone/Trombone_G#(5).wav',\n",
       " '../samples/Trombone/Trombone_A(1).wav',\n",
       " '../samples/Trombone/Trombone_A(2).wav',\n",
       " '../samples/Trombone/Trombone_A(3).wav',\n",
       " '../samples/Trombone/Trombone_A(4).wav',\n",
       " '../samples/Trombone/Trombone_A(5).wav',\n",
       " '../samples/Trombone/Trombone_A#(1).wav',\n",
       " '../samples/Trombone/Trombone_A#(2).wav',\n",
       " '../samples/Trombone/Trombone_A#(3).wav',\n",
       " '../samples/Trombone/Trombone_A#(4).wav',\n",
       " '../samples/Trombone/Trombone_A#(5).wav',\n",
       " '../samples/Trombone/Trombone_B(1).wav',\n",
       " '../samples/Trombone/Trombone_B(2).wav',\n",
       " '../samples/Trombone/Trombone_B(3).wav',\n",
       " '../samples/Trombone/Trombone_B(4).wav',\n",
       " '../samples/Trombone/Trombone_B(5).wav',\n",
       " '../samples/Guitar/Guitar_C(1).wav',\n",
       " '../samples/Guitar/Guitar_C(2).wav',\n",
       " '../samples/Guitar/Guitar_C(3).wav',\n",
       " '../samples/Guitar/Guitar_C(4).wav',\n",
       " '../samples/Guitar/Guitar_C(5).wav',\n",
       " '../samples/Guitar/Guitar_C#(1).wav',\n",
       " '../samples/Guitar/Guitar_C#(2).wav',\n",
       " '../samples/Guitar/Guitar_C#(3).wav',\n",
       " '../samples/Guitar/Guitar_C#(4).wav',\n",
       " '../samples/Guitar/Guitar_C#(5).wav',\n",
       " '../samples/Guitar/Guitar_D(1).wav',\n",
       " '../samples/Guitar/Guitar_D(2).wav',\n",
       " '../samples/Guitar/Guitar_D(3).wav',\n",
       " '../samples/Guitar/Guitar_D(4).wav',\n",
       " '../samples/Guitar/Guitar_D(5).wav',\n",
       " '../samples/Guitar/Guitar_D#(1).wav',\n",
       " '../samples/Guitar/Guitar_D#(2).wav',\n",
       " '../samples/Guitar/Guitar_D#(3).wav',\n",
       " '../samples/Guitar/Guitar_D#(4).wav',\n",
       " '../samples/Guitar/Guitar_D#(5).wav',\n",
       " '../samples/Guitar/Guitar_E(1).wav',\n",
       " '../samples/Guitar/Guitar_E(2).wav',\n",
       " '../samples/Guitar/Guitar_E(3).wav',\n",
       " '../samples/Guitar/Guitar_E(4).wav',\n",
       " '../samples/Guitar/Guitar_E(5).wav',\n",
       " '../samples/Guitar/Guitar_F(1).wav',\n",
       " '../samples/Guitar/Guitar_F(2).wav',\n",
       " '../samples/Guitar/Guitar_F(3).wav',\n",
       " '../samples/Guitar/Guitar_F(4).wav',\n",
       " '../samples/Guitar/Guitar_F(5).wav',\n",
       " '../samples/Guitar/Guitar_F#(1).wav',\n",
       " '../samples/Guitar/Guitar_F#(2).wav',\n",
       " '../samples/Guitar/Guitar_F#(3).wav',\n",
       " '../samples/Guitar/Guitar_F#(4).wav',\n",
       " '../samples/Guitar/Guitar_F#(5).wav',\n",
       " '../samples/Guitar/Guitar_G(1).wav',\n",
       " '../samples/Guitar/Guitar_G(2).wav',\n",
       " '../samples/Guitar/Guitar_G(3).wav',\n",
       " '../samples/Guitar/Guitar_G(4).wav',\n",
       " '../samples/Guitar/Guitar_G(5).wav',\n",
       " '../samples/Guitar/Guitar_G#(1).wav',\n",
       " '../samples/Guitar/Guitar_G#(2).wav',\n",
       " '../samples/Guitar/Guitar_G#(3).wav',\n",
       " '../samples/Guitar/Guitar_G#(4).wav',\n",
       " '../samples/Guitar/Guitar_G#(5).wav',\n",
       " '../samples/Guitar/Guitar_A(1).wav',\n",
       " '../samples/Guitar/Guitar_A(2).wav',\n",
       " '../samples/Guitar/Guitar_A(3).wav',\n",
       " '../samples/Guitar/Guitar_A(4).wav',\n",
       " '../samples/Guitar/Guitar_A(5).wav',\n",
       " '../samples/Guitar/Guitar_A#(1).wav',\n",
       " '../samples/Guitar/Guitar_A#(2).wav',\n",
       " '../samples/Guitar/Guitar_A#(3).wav',\n",
       " '../samples/Guitar/Guitar_A#(4).wav',\n",
       " '../samples/Guitar/Guitar_A#(5).wav',\n",
       " '../samples/Guitar/Guitar_B(1).wav',\n",
       " '../samples/Guitar/Guitar_B(2).wav',\n",
       " '../samples/Guitar/Guitar_B(3).wav',\n",
       " '../samples/Guitar/Guitar_B(4).wav',\n",
       " '../samples/Guitar/Guitar_B(5).wav']"
      ]
     },
     "execution_count": 11,
     "metadata": {},
     "output_type": "execute_result"
    }
   ],
   "source": [
    "sample_files"
   ]
  },
  {
   "cell_type": "code",
   "execution_count": 13,
   "metadata": {},
   "outputs": [],
   "source": [
    "def tf_normal_peak(vals, dfreq):\n",
    "    if vals.shape[0] == 1: return vals\n",
    "    sums = tf.reduce_sum(vals, 0, keepdims=True)\n",
    "    weights = vals/sums\n",
    "    freqs = tf.range(tf.cast(tf.shape(vals)[0], 'float64'), dtype='float64')\n",
    "    mean = tf.reduce_sum(\n",
    "        tf.cast(weights, 'float64') * tf.cast(freqs[:,None], 'float64'),  \n",
    "        axis=0,\n",
    "        keepdims=True)\n",
    "    \n",
    "    var = tf.truediv(tf.reduce_sum(tf.cast(((freqs[:,None]-mean)**2), 'float64')*tf.cast(weights, 'float64'), 0),dfreq)\n",
    "    denom_var = tf.multiply(tf.constant(2.0, dtype='float64'), m.pi)\n",
    "    denom_var_mult = tf.scalar_mul(denom_var, var)\n",
    "    denom = tf.sqrt(tf.abs(denom_var_mult))\n",
    "    dst_peak = tf.truediv(tf.constant(1.0, dtype='float64'),denom)\n",
    "    peak = (tf.cast(dst_peak, 'float64') * tf.cast(dfreq, 'float64') * tf.cast(tf.squeeze(sums), 'float64')) if (dst_peak != 'Nan') else 0\n",
    "    return peak"
   ]
  },
  {
   "cell_type": "code",
   "execution_count": 14,
   "metadata": {},
   "outputs": [],
   "source": [
    "nps_uniq, dfreqs, notes = util.precompute_spect()\n",
    "\n",
    "smallest_nps = 44100/24 * 4/3 \n",
    "smallest_nps = 2**int(np.log2(smallest_nps))\n",
    "full_spec = []\n",
    "tf_normal_peaks = []"
   ]
  },
  {
   "cell_type": "code",
   "execution_count": 19,
   "metadata": {},
   "outputs": [],
   "source": [
    "def tf_spect(wav, fs): \n",
    "    for nperseg in nps_uniq:\n",
    "        print('...')\n",
    "        signals = tf.placeholder(tf.float32)\n",
    "\n",
    "        frames = tf.contrib.signal.frame(signals, frame_length=np.int32(nperseg),\n",
    "                                         frame_step=np.int32(nperseg-smallest_nps))\n",
    "        stfts = tf.contrib.signal.stft(signals, frame_length=np.int32(nperseg),\n",
    "                                       frame_step=np.int32(nperseg-smallest_nps),\n",
    "                                       fft_length=np.int32(nperseg))\n",
    "        #   power_spectrograms = tf.real(stfts * tf.conj(stfts))\n",
    "        magnitude_spectrograms = tf.abs(stfts)\n",
    "        full_spec.append(magnitude_spectrograms)\n",
    "\n",
    "    for nps_ind, slc in notes:\n",
    "        tf_spec = full_spec[nps_ind]\n",
    "        tf_np = tf_normal_peak(tf_spec[:,slc], dfreqs[nps_ind])\n",
    "        full_spec[i,:len(time)] = tf_np\n"
   ]
  },
  {
   "cell_type": "code",
   "execution_count": null,
   "metadata": {},
   "outputs": [],
   "source": [
    "def tf_gather_data(filename):\n",
    "    fs, wav = wavfile.read(filename)\n",
    "    wav = wav.astype(np.double)\n",
    "    freq, time, spectrogram = tf_spect(wav, fs)\n",
    "    arg_sort = np.argsort(spectrogram,  axis=0)\n",
    "    return fs, wav, freq, time, spectrogram, arg_sort"
   ]
  },
  {
   "cell_type": "code",
   "execution_count": 17,
   "metadata": {},
   "outputs": [
    {
     "name": "stderr",
     "output_type": "stream",
     "text": [
      "/Users/Peeke/Honors/refactored-robot/Notebooks/utilities.py:116: RuntimeWarning: invalid value encountered in true_divide\n",
      "  weights = vals/sums # the weights for each time\n",
      "/Users/Peeke/Honors/.env/lib/python3.6/site-packages/scipy/io/wavfile.py:273: WavFileWarning: Chunk (non-data) not understood, skipping it.\n",
      "  WavFileWarning)\n",
      "/Users/Peeke/Honors/.env/lib/python3.6/site-packages/scipy/signal/spectral.py:1773: UserWarning: nperseg = 2048 is greater than input length  = 2, using nperseg = 2\n",
      "  .format(nperseg, input_length))\n",
      "/Users/Peeke/Honors/.env/lib/python3.6/site-packages/scipy/signal/spectral.py:1773: UserWarning: nperseg = 4096 is greater than input length  = 2, using nperseg = 2\n",
      "  .format(nperseg, input_length))\n"
     ]
    },
    {
     "ename": "ValueError",
     "evalue": "noverlap must be less than nperseg.",
     "output_type": "error",
     "traceback": [
      "\u001b[0;31m---------------------------------------------------------------------------\u001b[0m",
      "\u001b[0;31mValueError\u001b[0m                                Traceback (most recent call last)",
      "\u001b[0;32m<ipython-input-17-10d73fc0470d>\u001b[0m in \u001b[0;36m<module>\u001b[0;34m()\u001b[0m\n\u001b[1;32m      1\u001b[0m \u001b[0mFSS\u001b[0m \u001b[0;34m=\u001b[0m \u001b[0mWAVV\u001b[0m \u001b[0;34m=\u001b[0m \u001b[0mFREQQ\u001b[0m \u001b[0;34m=\u001b[0m \u001b[0mTIMEE\u001b[0m \u001b[0;34m=\u001b[0m \u001b[0mSPECTT\u001b[0m \u001b[0;34m=\u001b[0m \u001b[0mARG_SORTSS\u001b[0m \u001b[0;34m=\u001b[0m \u001b[0;34m[\u001b[0m\u001b[0;34m]\u001b[0m\u001b[0;34m\u001b[0m\u001b[0m\n\u001b[1;32m      2\u001b[0m \u001b[0;32mfor\u001b[0m \u001b[0msample\u001b[0m \u001b[0;32min\u001b[0m \u001b[0msample_files\u001b[0m\u001b[0;34m:\u001b[0m\u001b[0;34m\u001b[0m\u001b[0m\n\u001b[0;32m----> 3\u001b[0;31m     \u001b[0mfs\u001b[0m\u001b[0;34m,\u001b[0m \u001b[0mwav\u001b[0m\u001b[0;34m,\u001b[0m \u001b[0mfreq\u001b[0m\u001b[0;34m,\u001b[0m \u001b[0mtime\u001b[0m\u001b[0;34m,\u001b[0m \u001b[0mspectrogram\u001b[0m\u001b[0;34m,\u001b[0m \u001b[0marg_sort\u001b[0m \u001b[0;34m=\u001b[0m \u001b[0mutil\u001b[0m\u001b[0;34m.\u001b[0m\u001b[0mgather_data\u001b[0m\u001b[0;34m(\u001b[0m\u001b[0msample\u001b[0m\u001b[0;34m)\u001b[0m\u001b[0;34m\u001b[0m\u001b[0m\n\u001b[0m\u001b[1;32m      4\u001b[0m     \u001b[0mFSS\u001b[0m\u001b[0;34m.\u001b[0m\u001b[0mappend\u001b[0m\u001b[0;34m(\u001b[0m\u001b[0mfs\u001b[0m\u001b[0;34m)\u001b[0m\u001b[0;34m\u001b[0m\u001b[0m\n\u001b[1;32m      5\u001b[0m     \u001b[0mWAVV\u001b[0m\u001b[0;34m.\u001b[0m\u001b[0mappend\u001b[0m\u001b[0;34m(\u001b[0m\u001b[0mwav\u001b[0m\u001b[0;34m)\u001b[0m\u001b[0;34m\u001b[0m\u001b[0m\n",
      "\u001b[0;32m~/Honors/refactored-robot/Notebooks/utilities.py\u001b[0m in \u001b[0;36mgather_data\u001b[0;34m(filename)\u001b[0m\n\u001b[1;32m    129\u001b[0m     \u001b[0mfs\u001b[0m\u001b[0;34m,\u001b[0m \u001b[0mwav\u001b[0m \u001b[0;34m=\u001b[0m \u001b[0mwavfile\u001b[0m\u001b[0;34m.\u001b[0m\u001b[0mread\u001b[0m\u001b[0;34m(\u001b[0m\u001b[0mfilename\u001b[0m\u001b[0;34m)\u001b[0m\u001b[0;34m\u001b[0m\u001b[0m\n\u001b[1;32m    130\u001b[0m     \u001b[0mwav\u001b[0m \u001b[0;34m=\u001b[0m \u001b[0mwav\u001b[0m\u001b[0;34m.\u001b[0m\u001b[0mastype\u001b[0m\u001b[0;34m(\u001b[0m\u001b[0mnp\u001b[0m\u001b[0;34m.\u001b[0m\u001b[0mdouble\u001b[0m\u001b[0;34m)\u001b[0m\u001b[0;34m\u001b[0m\u001b[0m\n\u001b[0;32m--> 131\u001b[0;31m     \u001b[0mfreq\u001b[0m\u001b[0;34m,\u001b[0m \u001b[0mtime\u001b[0m\u001b[0;34m,\u001b[0m \u001b[0mspectrogram\u001b[0m \u001b[0;34m=\u001b[0m \u001b[0mspect\u001b[0m\u001b[0;34m(\u001b[0m\u001b[0mwav\u001b[0m\u001b[0;34m,\u001b[0m \u001b[0mfs\u001b[0m\u001b[0;34m)\u001b[0m\u001b[0;34m\u001b[0m\u001b[0m\n\u001b[0m\u001b[1;32m    132\u001b[0m     \u001b[0marg_sort\u001b[0m \u001b[0;34m=\u001b[0m \u001b[0mnp\u001b[0m\u001b[0;34m.\u001b[0m\u001b[0margsort\u001b[0m\u001b[0;34m(\u001b[0m\u001b[0mspectrogram\u001b[0m\u001b[0;34m,\u001b[0m  \u001b[0maxis\u001b[0m\u001b[0;34m=\u001b[0m\u001b[0;36m0\u001b[0m\u001b[0;34m)\u001b[0m\u001b[0;34m\u001b[0m\u001b[0m\n\u001b[1;32m    133\u001b[0m     \u001b[0;32mreturn\u001b[0m \u001b[0mfs\u001b[0m\u001b[0;34m,\u001b[0m \u001b[0mwav\u001b[0m\u001b[0;34m,\u001b[0m \u001b[0mfreq\u001b[0m\u001b[0;34m,\u001b[0m \u001b[0mtime\u001b[0m\u001b[0;34m,\u001b[0m \u001b[0mspectrogram\u001b[0m\u001b[0;34m,\u001b[0m \u001b[0marg_sort\u001b[0m\u001b[0;34m\u001b[0m\u001b[0m\n",
      "\u001b[0;32m~/Honors/refactored-robot/Notebooks/utilities.py\u001b[0m in \u001b[0;36mspect\u001b[0;34m(wav, fs)\u001b[0m\n\u001b[1;32m     71\u001b[0m     \u001b[0mdata\u001b[0m \u001b[0;34m=\u001b[0m \u001b[0;34m[\u001b[0m\u001b[0;34m]\u001b[0m\u001b[0;34m\u001b[0m\u001b[0m\n\u001b[1;32m     72\u001b[0m     \u001b[0;32mfor\u001b[0m \u001b[0mnperseg\u001b[0m \u001b[0;32min\u001b[0m \u001b[0mnps_uniq\u001b[0m\u001b[0;34m:\u001b[0m\u001b[0;34m\u001b[0m\u001b[0m\n\u001b[0;32m---> 73\u001b[0;31m         \u001b[0mdata\u001b[0m\u001b[0;34m.\u001b[0m\u001b[0mappend\u001b[0m\u001b[0;34m(\u001b[0m\u001b[0msg\u001b[0m\u001b[0;34m.\u001b[0m\u001b[0mspectrogram\u001b[0m\u001b[0;34m(\u001b[0m\u001b[0mwav\u001b[0m\u001b[0;34m,\u001b[0m \u001b[0mfs\u001b[0m\u001b[0;34m,\u001b[0m \u001b[0mnperseg\u001b[0m\u001b[0;34m=\u001b[0m\u001b[0mnperseg\u001b[0m\u001b[0;34m,\u001b[0m \u001b[0mnoverlap\u001b[0m\u001b[0;34m=\u001b[0m\u001b[0mnperseg\u001b[0m\u001b[0;34m-\u001b[0m\u001b[0msmallest_nps\u001b[0m\u001b[0;34m)\u001b[0m\u001b[0;34m)\u001b[0m\u001b[0;34m\u001b[0m\u001b[0m\n\u001b[0m\u001b[1;32m     74\u001b[0m     \u001b[0ma\u001b[0m \u001b[0;34m=\u001b[0m \u001b[0;36m2\u001b[0m\u001b[0;34m**\u001b[0m\u001b[0;34m(\u001b[0m\u001b[0;36m1\u001b[0m\u001b[0;34m/\u001b[0m\u001b[0;36m12\u001b[0m\u001b[0;34m)\u001b[0m\u001b[0;34m\u001b[0m\u001b[0m\n\u001b[1;32m     75\u001b[0m     \u001b[0mlo_factor\u001b[0m \u001b[0;34m=\u001b[0m \u001b[0;36m0.5\u001b[0m\u001b[0;34m*\u001b[0m\u001b[0;34m(\u001b[0m\u001b[0;36m1\u001b[0m\u001b[0;34m+\u001b[0m\u001b[0;36m1\u001b[0m\u001b[0;34m/\u001b[0m\u001b[0ma\u001b[0m\u001b[0;34m)\u001b[0m\u001b[0;34m\u001b[0m\u001b[0m\n",
      "\u001b[0;32m~/Honors/.env/lib/python3.6/site-packages/scipy/signal/spectral.py\u001b[0m in \u001b[0;36mspectrogram\u001b[0;34m(x, fs, window, nperseg, noverlap, nfft, detrend, return_onesided, scaling, axis, mode)\u001b[0m\n\u001b[1;32m    699\u001b[0m                                             \u001b[0mnoverlap\u001b[0m\u001b[0;34m,\u001b[0m \u001b[0mnfft\u001b[0m\u001b[0;34m,\u001b[0m \u001b[0mdetrend\u001b[0m\u001b[0;34m,\u001b[0m\u001b[0;34m\u001b[0m\u001b[0m\n\u001b[1;32m    700\u001b[0m                                             \u001b[0mreturn_onesided\u001b[0m\u001b[0;34m,\u001b[0m \u001b[0mscaling\u001b[0m\u001b[0;34m,\u001b[0m \u001b[0maxis\u001b[0m\u001b[0;34m,\u001b[0m\u001b[0;34m\u001b[0m\u001b[0m\n\u001b[0;32m--> 701\u001b[0;31m                                             mode='psd')\n\u001b[0m\u001b[1;32m    702\u001b[0m \u001b[0;34m\u001b[0m\u001b[0m\n\u001b[1;32m    703\u001b[0m     \u001b[0;32melse\u001b[0m\u001b[0;34m:\u001b[0m\u001b[0;34m\u001b[0m\u001b[0m\n",
      "\u001b[0;32m~/Honors/.env/lib/python3.6/site-packages/scipy/signal/spectral.py\u001b[0m in \u001b[0;36m_spectral_helper\u001b[0;34m(x, y, fs, window, nperseg, noverlap, nfft, detrend, return_onesided, scaling, axis, mode, boundary, padded)\u001b[0m\n\u001b[1;32m   1563\u001b[0m         \u001b[0mnoverlap\u001b[0m \u001b[0;34m=\u001b[0m \u001b[0mint\u001b[0m\u001b[0;34m(\u001b[0m\u001b[0mnoverlap\u001b[0m\u001b[0;34m)\u001b[0m\u001b[0;34m\u001b[0m\u001b[0m\n\u001b[1;32m   1564\u001b[0m     \u001b[0;32mif\u001b[0m \u001b[0mnoverlap\u001b[0m \u001b[0;34m>=\u001b[0m \u001b[0mnperseg\u001b[0m\u001b[0;34m:\u001b[0m\u001b[0;34m\u001b[0m\u001b[0m\n\u001b[0;32m-> 1565\u001b[0;31m         \u001b[0;32mraise\u001b[0m \u001b[0mValueError\u001b[0m\u001b[0;34m(\u001b[0m\u001b[0;34m'noverlap must be less than nperseg.'\u001b[0m\u001b[0;34m)\u001b[0m\u001b[0;34m\u001b[0m\u001b[0m\n\u001b[0m\u001b[1;32m   1566\u001b[0m     \u001b[0mnstep\u001b[0m \u001b[0;34m=\u001b[0m \u001b[0mnperseg\u001b[0m \u001b[0;34m-\u001b[0m \u001b[0mnoverlap\u001b[0m\u001b[0;34m\u001b[0m\u001b[0m\n\u001b[1;32m   1567\u001b[0m \u001b[0;34m\u001b[0m\u001b[0m\n",
      "\u001b[0;31mValueError\u001b[0m: noverlap must be less than nperseg."
     ]
    }
   ],
   "source": [
    "FSS = WAVV = FREQQ = TIMEE = SPECTT = ARG_SORTSS = []\n",
    "for sample in sample_files:\n",
    "    fs, wav, freq, time, spectrogram, arg_sort = util.gather_data(sample)\n",
    "    FSS.append(fs)\n",
    "    WAVV.append(wav)\n",
    "    FREQQ.append(freq)\n",
    "    TIMEE.append(time)\n",
    "    SPECTT.append(spectrogram)\n",
    "    ARG_SORTSS.append(arg_sort)"
   ]
  },
  {
   "cell_type": "code",
   "execution_count": null,
   "metadata": {},
   "outputs": [],
   "source": []
  }
 ],
 "metadata": {
  "kernelspec": {
   "display_name": "example1",
   "language": "python",
   "name": "example1"
  },
  "language_info": {
   "codemirror_mode": {
    "name": "ipython",
    "version": 3
   },
   "file_extension": ".py",
   "mimetype": "text/x-python",
   "name": "python",
   "nbconvert_exporter": "python",
   "pygments_lexer": "ipython3",
   "version": "3.6.6"
  }
 },
 "nbformat": 4,
 "nbformat_minor": 2
}
